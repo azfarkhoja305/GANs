{
  "nbformat": 4,
  "nbformat_minor": 0,
  "metadata": {
    "accelerator": "GPU",
    "colab": {
      "name": "DC GAN-CIFAR.ipynb",
      "provenance": [],
      "collapsed_sections": [],
      "include_colab_link": true
    },
    "kernelspec": {
      "display_name": "Python 3",
      "name": "python3",
      "language": "python"
    },
    "widgets": {
      "application/vnd.jupyter.widget-state+json": {
        "741bc5012a4d4d218cdaa4d5aa9051e9": {
          "model_module": "@jupyter-widgets/controls",
          "model_name": "HBoxModel",
          "state": {
            "_dom_classes": [],
            "_model_module": "@jupyter-widgets/controls",
            "_model_module_version": "1.5.0",
            "_model_name": "HBoxModel",
            "_view_count": null,
            "_view_module": "@jupyter-widgets/controls",
            "_view_module_version": "1.5.0",
            "_view_name": "HBoxView",
            "box_style": "",
            "children": [
              "IPY_MODEL_d7e6fcbab89240289c50d22fd42bd907",
              "IPY_MODEL_b1b5d7be7d8b4011a2c709c328283c7f",
              "IPY_MODEL_2f3d270a015247bdafe2f078262b0c8f"
            ],
            "layout": "IPY_MODEL_33e5b5eec9374cee9a8dc2470763b0f4"
          }
        },
        "d7e6fcbab89240289c50d22fd42bd907": {
          "model_module": "@jupyter-widgets/controls",
          "model_name": "HTMLModel",
          "state": {
            "_dom_classes": [],
            "_model_module": "@jupyter-widgets/controls",
            "_model_module_version": "1.5.0",
            "_model_name": "HTMLModel",
            "_view_count": null,
            "_view_module": "@jupyter-widgets/controls",
            "_view_module_version": "1.5.0",
            "_view_name": "HTMLView",
            "description": "",
            "description_tooltip": null,
            "layout": "IPY_MODEL_530434d36f7e470ab56fad2060dbbba7",
            "placeholder": "​",
            "style": "IPY_MODEL_696934ec05d24075af05bc1f38e660e9",
            "value": "generating images: 100%"
          }
        },
        "b1b5d7be7d8b4011a2c709c328283c7f": {
          "model_module": "@jupyter-widgets/controls",
          "model_name": "FloatProgressModel",
          "state": {
            "_dom_classes": [],
            "_model_module": "@jupyter-widgets/controls",
            "_model_module_version": "1.5.0",
            "_model_name": "FloatProgressModel",
            "_view_count": null,
            "_view_module": "@jupyter-widgets/controls",
            "_view_module_version": "1.5.0",
            "_view_name": "ProgressView",
            "bar_style": "",
            "description": "",
            "description_tooltip": null,
            "layout": "IPY_MODEL_c457f17d75d948c79f3ed1557ed5aadf",
            "max": 157,
            "min": 0,
            "orientation": "horizontal",
            "style": "IPY_MODEL_657e97e4977d411e88fe322812b5c0d7",
            "value": 157
          }
        },
        "2f3d270a015247bdafe2f078262b0c8f": {
          "model_module": "@jupyter-widgets/controls",
          "model_name": "HTMLModel",
          "state": {
            "_dom_classes": [],
            "_model_module": "@jupyter-widgets/controls",
            "_model_module_version": "1.5.0",
            "_model_name": "HTMLModel",
            "_view_count": null,
            "_view_module": "@jupyter-widgets/controls",
            "_view_module_version": "1.5.0",
            "_view_name": "HTMLView",
            "description": "",
            "description_tooltip": null,
            "layout": "IPY_MODEL_c687cc5c9d9c42d197596bb6099ace2e",
            "placeholder": "​",
            "style": "IPY_MODEL_287a5531bf124a93b1673bfafc20230e",
            "value": " 157/157 [00:27&lt;00:00,  5.30it/s]"
          }
        },
        "33e5b5eec9374cee9a8dc2470763b0f4": {
          "model_module": "@jupyter-widgets/base",
          "model_name": "LayoutModel",
          "state": {
            "_model_module": "@jupyter-widgets/base",
            "_model_module_version": "1.2.0",
            "_model_name": "LayoutModel",
            "_view_count": null,
            "_view_module": "@jupyter-widgets/base",
            "_view_module_version": "1.2.0",
            "_view_name": "LayoutView",
            "align_content": null,
            "align_items": null,
            "align_self": null,
            "border": null,
            "bottom": null,
            "display": null,
            "flex": null,
            "flex_flow": null,
            "grid_area": null,
            "grid_auto_columns": null,
            "grid_auto_flow": null,
            "grid_auto_rows": null,
            "grid_column": null,
            "grid_gap": null,
            "grid_row": null,
            "grid_template_areas": null,
            "grid_template_columns": null,
            "grid_template_rows": null,
            "height": null,
            "justify_content": null,
            "justify_items": null,
            "left": null,
            "margin": null,
            "max_height": null,
            "max_width": null,
            "min_height": null,
            "min_width": null,
            "object_fit": null,
            "object_position": null,
            "order": null,
            "overflow": null,
            "overflow_x": null,
            "overflow_y": null,
            "padding": null,
            "right": null,
            "top": null,
            "visibility": null,
            "width": null
          }
        },
        "530434d36f7e470ab56fad2060dbbba7": {
          "model_module": "@jupyter-widgets/base",
          "model_name": "LayoutModel",
          "state": {
            "_model_module": "@jupyter-widgets/base",
            "_model_module_version": "1.2.0",
            "_model_name": "LayoutModel",
            "_view_count": null,
            "_view_module": "@jupyter-widgets/base",
            "_view_module_version": "1.2.0",
            "_view_name": "LayoutView",
            "align_content": null,
            "align_items": null,
            "align_self": null,
            "border": null,
            "bottom": null,
            "display": null,
            "flex": null,
            "flex_flow": null,
            "grid_area": null,
            "grid_auto_columns": null,
            "grid_auto_flow": null,
            "grid_auto_rows": null,
            "grid_column": null,
            "grid_gap": null,
            "grid_row": null,
            "grid_template_areas": null,
            "grid_template_columns": null,
            "grid_template_rows": null,
            "height": null,
            "justify_content": null,
            "justify_items": null,
            "left": null,
            "margin": null,
            "max_height": null,
            "max_width": null,
            "min_height": null,
            "min_width": null,
            "object_fit": null,
            "object_position": null,
            "order": null,
            "overflow": null,
            "overflow_x": null,
            "overflow_y": null,
            "padding": null,
            "right": null,
            "top": null,
            "visibility": null,
            "width": null
          }
        },
        "696934ec05d24075af05bc1f38e660e9": {
          "model_module": "@jupyter-widgets/controls",
          "model_name": "DescriptionStyleModel",
          "state": {
            "_model_module": "@jupyter-widgets/controls",
            "_model_module_version": "1.5.0",
            "_model_name": "DescriptionStyleModel",
            "_view_count": null,
            "_view_module": "@jupyter-widgets/base",
            "_view_module_version": "1.2.0",
            "_view_name": "StyleView",
            "description_width": ""
          }
        },
        "c457f17d75d948c79f3ed1557ed5aadf": {
          "model_module": "@jupyter-widgets/base",
          "model_name": "LayoutModel",
          "state": {
            "_model_module": "@jupyter-widgets/base",
            "_model_module_version": "1.2.0",
            "_model_name": "LayoutModel",
            "_view_count": null,
            "_view_module": "@jupyter-widgets/base",
            "_view_module_version": "1.2.0",
            "_view_name": "LayoutView",
            "align_content": null,
            "align_items": null,
            "align_self": null,
            "border": null,
            "bottom": null,
            "display": null,
            "flex": null,
            "flex_flow": null,
            "grid_area": null,
            "grid_auto_columns": null,
            "grid_auto_flow": null,
            "grid_auto_rows": null,
            "grid_column": null,
            "grid_gap": null,
            "grid_row": null,
            "grid_template_areas": null,
            "grid_template_columns": null,
            "grid_template_rows": null,
            "height": null,
            "justify_content": null,
            "justify_items": null,
            "left": null,
            "margin": null,
            "max_height": null,
            "max_width": null,
            "min_height": null,
            "min_width": null,
            "object_fit": null,
            "object_position": null,
            "order": null,
            "overflow": null,
            "overflow_x": null,
            "overflow_y": null,
            "padding": null,
            "right": null,
            "top": null,
            "visibility": null,
            "width": null
          }
        },
        "657e97e4977d411e88fe322812b5c0d7": {
          "model_module": "@jupyter-widgets/controls",
          "model_name": "ProgressStyleModel",
          "state": {
            "_model_module": "@jupyter-widgets/controls",
            "_model_module_version": "1.5.0",
            "_model_name": "ProgressStyleModel",
            "_view_count": null,
            "_view_module": "@jupyter-widgets/base",
            "_view_module_version": "1.2.0",
            "_view_name": "StyleView",
            "bar_color": null,
            "description_width": ""
          }
        },
        "c687cc5c9d9c42d197596bb6099ace2e": {
          "model_module": "@jupyter-widgets/base",
          "model_name": "LayoutModel",
          "state": {
            "_model_module": "@jupyter-widgets/base",
            "_model_module_version": "1.2.0",
            "_model_name": "LayoutModel",
            "_view_count": null,
            "_view_module": "@jupyter-widgets/base",
            "_view_module_version": "1.2.0",
            "_view_name": "LayoutView",
            "align_content": null,
            "align_items": null,
            "align_self": null,
            "border": null,
            "bottom": null,
            "display": null,
            "flex": null,
            "flex_flow": null,
            "grid_area": null,
            "grid_auto_columns": null,
            "grid_auto_flow": null,
            "grid_auto_rows": null,
            "grid_column": null,
            "grid_gap": null,
            "grid_row": null,
            "grid_template_areas": null,
            "grid_template_columns": null,
            "grid_template_rows": null,
            "height": null,
            "justify_content": null,
            "justify_items": null,
            "left": null,
            "margin": null,
            "max_height": null,
            "max_width": null,
            "min_height": null,
            "min_width": null,
            "object_fit": null,
            "object_position": null,
            "order": null,
            "overflow": null,
            "overflow_x": null,
            "overflow_y": null,
            "padding": null,
            "right": null,
            "top": null,
            "visibility": null,
            "width": null
          }
        },
        "287a5531bf124a93b1673bfafc20230e": {
          "model_module": "@jupyter-widgets/controls",
          "model_name": "DescriptionStyleModel",
          "state": {
            "_model_module": "@jupyter-widgets/controls",
            "_model_module_version": "1.5.0",
            "_model_name": "DescriptionStyleModel",
            "_view_count": null,
            "_view_module": "@jupyter-widgets/base",
            "_view_module_version": "1.2.0",
            "_view_name": "StyleView",
            "description_width": ""
          }
        },
        "83d92482c3ae4611bb84c5fbd1d27ceb": {
          "model_module": "@jupyter-widgets/controls",
          "model_name": "HBoxModel",
          "state": {
            "_dom_classes": [],
            "_model_module": "@jupyter-widgets/controls",
            "_model_module_version": "1.5.0",
            "_model_name": "HBoxModel",
            "_view_count": null,
            "_view_module": "@jupyter-widgets/controls",
            "_view_module_version": "1.5.0",
            "_view_name": "HBoxView",
            "box_style": "",
            "children": [
              "IPY_MODEL_36ce1412399f450d96ed5848f0ed1de3",
              "IPY_MODEL_caec3fede0294086a9bd863565f61076",
              "IPY_MODEL_24a35382b416465eaca42a9b9f030021"
            ],
            "layout": "IPY_MODEL_3aff8cf53f9c4360ab278bf0dc22fa4e"
          }
        },
        "36ce1412399f450d96ed5848f0ed1de3": {
          "model_module": "@jupyter-widgets/controls",
          "model_name": "HTMLModel",
          "state": {
            "_dom_classes": [],
            "_model_module": "@jupyter-widgets/controls",
            "_model_module_version": "1.5.0",
            "_model_name": "HTMLModel",
            "_view_count": null,
            "_view_module": "@jupyter-widgets/controls",
            "_view_module_version": "1.5.0",
            "_view_name": "HTMLView",
            "description": "",
            "description_tooltip": null,
            "layout": "IPY_MODEL_395a9528d5094e4bbdb57750d8033347",
            "placeholder": "​",
            "style": "IPY_MODEL_5834b35bf09e4038a24b92c5b51ff60b",
            "value": "inception_score_and_fid: 100%"
          }
        },
        "caec3fede0294086a9bd863565f61076": {
          "model_module": "@jupyter-widgets/controls",
          "model_name": "FloatProgressModel",
          "state": {
            "_dom_classes": [],
            "_model_module": "@jupyter-widgets/controls",
            "_model_module_version": "1.5.0",
            "_model_name": "FloatProgressModel",
            "_view_count": null,
            "_view_module": "@jupyter-widgets/controls",
            "_view_module_version": "1.5.0",
            "_view_name": "ProgressView",
            "bar_style": "",
            "description": "",
            "description_tooltip": null,
            "layout": "IPY_MODEL_5a2e5cfe880a4632863f898881abac25",
            "max": 10000,
            "min": 0,
            "orientation": "horizontal",
            "style": "IPY_MODEL_b17a16ac752049d6bff31a1715add9dc",
            "value": 10000
          }
        },
        "24a35382b416465eaca42a9b9f030021": {
          "model_module": "@jupyter-widgets/controls",
          "model_name": "HTMLModel",
          "state": {
            "_dom_classes": [],
            "_model_module": "@jupyter-widgets/controls",
            "_model_module_version": "1.5.0",
            "_model_name": "HTMLModel",
            "_view_count": null,
            "_view_module": "@jupyter-widgets/controls",
            "_view_module_version": "1.5.0",
            "_view_name": "HTMLView",
            "description": "",
            "description_tooltip": null,
            "layout": "IPY_MODEL_b0b1cddf3b424d0b8b93a4b0e2f409e3",
            "placeholder": "​",
            "style": "IPY_MODEL_ab92c10bb9414125b5a06bf1de09e07c",
            "value": " 10000/10000 [00:53&lt;00:00, 178.33it/s]"
          }
        },
        "3aff8cf53f9c4360ab278bf0dc22fa4e": {
          "model_module": "@jupyter-widgets/base",
          "model_name": "LayoutModel",
          "state": {
            "_model_module": "@jupyter-widgets/base",
            "_model_module_version": "1.2.0",
            "_model_name": "LayoutModel",
            "_view_count": null,
            "_view_module": "@jupyter-widgets/base",
            "_view_module_version": "1.2.0",
            "_view_name": "LayoutView",
            "align_content": null,
            "align_items": null,
            "align_self": null,
            "border": null,
            "bottom": null,
            "display": "inline-flex",
            "flex": null,
            "flex_flow": "row wrap",
            "grid_area": null,
            "grid_auto_columns": null,
            "grid_auto_flow": null,
            "grid_auto_rows": null,
            "grid_column": null,
            "grid_gap": null,
            "grid_row": null,
            "grid_template_areas": null,
            "grid_template_columns": null,
            "grid_template_rows": null,
            "height": null,
            "justify_content": null,
            "justify_items": null,
            "left": null,
            "margin": null,
            "max_height": null,
            "max_width": null,
            "min_height": null,
            "min_width": null,
            "object_fit": null,
            "object_position": null,
            "order": null,
            "overflow": null,
            "overflow_x": null,
            "overflow_y": null,
            "padding": null,
            "right": null,
            "top": null,
            "visibility": null,
            "width": "100%"
          }
        },
        "395a9528d5094e4bbdb57750d8033347": {
          "model_module": "@jupyter-widgets/base",
          "model_name": "LayoutModel",
          "state": {
            "_model_module": "@jupyter-widgets/base",
            "_model_module_version": "1.2.0",
            "_model_name": "LayoutModel",
            "_view_count": null,
            "_view_module": "@jupyter-widgets/base",
            "_view_module_version": "1.2.0",
            "_view_name": "LayoutView",
            "align_content": null,
            "align_items": null,
            "align_self": null,
            "border": null,
            "bottom": null,
            "display": null,
            "flex": null,
            "flex_flow": null,
            "grid_area": null,
            "grid_auto_columns": null,
            "grid_auto_flow": null,
            "grid_auto_rows": null,
            "grid_column": null,
            "grid_gap": null,
            "grid_row": null,
            "grid_template_areas": null,
            "grid_template_columns": null,
            "grid_template_rows": null,
            "height": null,
            "justify_content": null,
            "justify_items": null,
            "left": null,
            "margin": null,
            "max_height": null,
            "max_width": null,
            "min_height": null,
            "min_width": null,
            "object_fit": null,
            "object_position": null,
            "order": null,
            "overflow": null,
            "overflow_x": null,
            "overflow_y": null,
            "padding": null,
            "right": null,
            "top": null,
            "visibility": null,
            "width": null
          }
        },
        "5834b35bf09e4038a24b92c5b51ff60b": {
          "model_module": "@jupyter-widgets/controls",
          "model_name": "DescriptionStyleModel",
          "state": {
            "_model_module": "@jupyter-widgets/controls",
            "_model_module_version": "1.5.0",
            "_model_name": "DescriptionStyleModel",
            "_view_count": null,
            "_view_module": "@jupyter-widgets/base",
            "_view_module_version": "1.2.0",
            "_view_name": "StyleView",
            "description_width": ""
          }
        },
        "5a2e5cfe880a4632863f898881abac25": {
          "model_module": "@jupyter-widgets/base",
          "model_name": "LayoutModel",
          "state": {
            "_model_module": "@jupyter-widgets/base",
            "_model_module_version": "1.2.0",
            "_model_name": "LayoutModel",
            "_view_count": null,
            "_view_module": "@jupyter-widgets/base",
            "_view_module_version": "1.2.0",
            "_view_name": "LayoutView",
            "align_content": null,
            "align_items": null,
            "align_self": null,
            "border": null,
            "bottom": null,
            "display": null,
            "flex": "2",
            "flex_flow": null,
            "grid_area": null,
            "grid_auto_columns": null,
            "grid_auto_flow": null,
            "grid_auto_rows": null,
            "grid_column": null,
            "grid_gap": null,
            "grid_row": null,
            "grid_template_areas": null,
            "grid_template_columns": null,
            "grid_template_rows": null,
            "height": null,
            "justify_content": null,
            "justify_items": null,
            "left": null,
            "margin": null,
            "max_height": null,
            "max_width": null,
            "min_height": null,
            "min_width": null,
            "object_fit": null,
            "object_position": null,
            "order": null,
            "overflow": null,
            "overflow_x": null,
            "overflow_y": null,
            "padding": null,
            "right": null,
            "top": null,
            "visibility": null,
            "width": null
          }
        },
        "b17a16ac752049d6bff31a1715add9dc": {
          "model_module": "@jupyter-widgets/controls",
          "model_name": "ProgressStyleModel",
          "state": {
            "_model_module": "@jupyter-widgets/controls",
            "_model_module_version": "1.5.0",
            "_model_name": "ProgressStyleModel",
            "_view_count": null,
            "_view_module": "@jupyter-widgets/base",
            "_view_module_version": "1.2.0",
            "_view_name": "StyleView",
            "bar_color": null,
            "description_width": ""
          }
        },
        "b0b1cddf3b424d0b8b93a4b0e2f409e3": {
          "model_module": "@jupyter-widgets/base",
          "model_name": "LayoutModel",
          "state": {
            "_model_module": "@jupyter-widgets/base",
            "_model_module_version": "1.2.0",
            "_model_name": "LayoutModel",
            "_view_count": null,
            "_view_module": "@jupyter-widgets/base",
            "_view_module_version": "1.2.0",
            "_view_name": "LayoutView",
            "align_content": null,
            "align_items": null,
            "align_self": null,
            "border": null,
            "bottom": null,
            "display": null,
            "flex": null,
            "flex_flow": null,
            "grid_area": null,
            "grid_auto_columns": null,
            "grid_auto_flow": null,
            "grid_auto_rows": null,
            "grid_column": null,
            "grid_gap": null,
            "grid_row": null,
            "grid_template_areas": null,
            "grid_template_columns": null,
            "grid_template_rows": null,
            "height": null,
            "justify_content": null,
            "justify_items": null,
            "left": null,
            "margin": null,
            "max_height": null,
            "max_width": null,
            "min_height": null,
            "min_width": null,
            "object_fit": null,
            "object_position": null,
            "order": null,
            "overflow": null,
            "overflow_x": null,
            "overflow_y": null,
            "padding": null,
            "right": null,
            "top": null,
            "visibility": null,
            "width": null
          }
        },
        "ab92c10bb9414125b5a06bf1de09e07c": {
          "model_module": "@jupyter-widgets/controls",
          "model_name": "DescriptionStyleModel",
          "state": {
            "_model_module": "@jupyter-widgets/controls",
            "_model_module_version": "1.5.0",
            "_model_name": "DescriptionStyleModel",
            "_view_count": null,
            "_view_module": "@jupyter-widgets/base",
            "_view_module_version": "1.2.0",
            "_view_name": "StyleView",
            "description_width": ""
          }
        }
      }
    }
  },
  "cells": [
    {
      "cell_type": "markdown",
      "metadata": {
        "id": "view-in-github",
        "colab_type": "text"
      },
      "source": [
        "<a href=\"https://colab.research.google.com/github/azfarkhoja305/GANs/blob/attention_init_alex/notebooks/Evaluate_TransGAN.ipynb\" target=\"_parent\"><img src=\"https://colab.research.google.com/assets/colab-badge.svg\" alt=\"Open In Colab\"/></a>"
      ]
    },
    {
      "cell_type": "markdown",
      "metadata": {
        "id": "0SWerrtj1YvW"
      },
      "source": [
        "# Initialization"
      ]
    },
    {
      "cell_type": "code",
      "metadata": {
        "id": "tt9aRbqXELop",
        "colab": {
          "base_uri": "https://localhost:8080/"
        },
        "outputId": "da4a9aee-99e5-492c-9aa7-32582fdabc72"
      },
      "source": [
        "# Check GPU\n",
        "!nvidia-smi"
      ],
      "execution_count": 1,
      "outputs": [
        {
          "output_type": "stream",
          "text": [
            "Mon Apr 19 10:34:56 2021       \n",
            "+-----------------------------------------------------------------------------+\n",
            "| NVIDIA-SMI 461.92       Driver Version: 461.92       CUDA Version: 11.2     |\n",
            "|-------------------------------+----------------------+----------------------+\n",
            "| GPU  Name            TCC/WDDM | Bus-Id        Disp.A | Volatile Uncorr. ECC |\n",
            "| Fan  Temp  Perf  Pwr:Usage/Cap|         Memory-Usage | GPU-Util  Compute M. |\n",
            "|                               |                      |               MIG M. |\n",
            "|===============================+======================+======================|\n",
            "|   0  GeForce GTX 106... WDDM  | 00000000:07:00.0  On |                  N/A |\n",
            "| 38%   54C    P0    27W / 120W |    989MiB /  6144MiB |      1%      Default |\n",
            "|                               |                      |                  N/A |\n",
            "+-------------------------------+----------------------+----------------------+\n",
            "                                                                               \n",
            "+-----------------------------------------------------------------------------+\n",
            "| Processes:                                                                  |\n",
            "|  GPU   GI   CI        PID   Type   Process name                  GPU Memory |\n",
            "|        ID   ID                                                   Usage      |\n",
            "|=============================================================================|\n",
            "|    0   N/A  N/A      1360    C+G   Insufficient Permissions        N/A      |\n",
            "|    0   N/A  N/A      1840    C+G   ...in7x64\\steamwebhelper.exe    N/A      |\n",
            "|    0   N/A  N/A      3648    C+G   ...lPanel\\SystemSettings.exe    N/A      |\n",
            "|    0   N/A  N/A      5484    C+G   ...5n1h2txyewy\\SearchApp.exe    N/A      |\n",
            "|    0   N/A  N/A      5496    C+G   C:\\Windows\\explorer.exe         N/A      |\n",
            "|    0   N/A  N/A      5784    C+G   ...me\\Application\\chrome.exe    N/A      |\n",
            "|    0   N/A  N/A      6724    C+G   ...artMenuExperienceHost.exe    N/A      |\n",
            "|    0   N/A  N/A      7648    C+G   ...ekyb3d8bbwe\\YourPhone.exe    N/A      |\n",
            "|    0   N/A  N/A      7992    C+G   ...nputApp\\TextInputHost.exe    N/A      |\n",
            "|    0   N/A  N/A      8128    C+G   ...bbwe\\Microsoft.Photos.exe    N/A      |\n",
            "|    0   N/A  N/A      8608    C+G   ...cw5n1h2txyewy\\LockApp.exe    N/A      |\n",
            "|    0   N/A  N/A      8972    C+G   ...kyb3d8bbwe\\Calculator.exe    N/A      |\n",
            "|    0   N/A  N/A      9668    C+G   ...b3d8bbwe\\WinStore.App.exe    N/A      |\n",
            "|    0   N/A  N/A     10508    C+G   ...t\\Teams\\current\\Teams.exe    N/A      |\n",
            "|    0   N/A  N/A     11268    C+G   ...y\\ShellExperienceHost.exe    N/A      |\n",
            "|    0   N/A  N/A     12140    C+G   ...lack\\app-4.15.0\\slack.exe    N/A      |\n",
            "|    0   N/A  N/A     13420    C+G   ...\\app-1.0.9001\\Discord.exe    N/A      |\n",
            "|    0   N/A  N/A     13456    C+G   ...s\\Messenger\\Messenger.exe    N/A      |\n",
            "|    0   N/A  N/A     15880    C+G   ...t\\Teams\\current\\Teams.exe    N/A      |\n",
            "|    0   N/A  N/A     16712    C+G   ...icrosoft VS Code\\Code.exe    N/A      |\n",
            "|    0   N/A  N/A     18200    C+G   ...rtualDesktop.Streamer.exe    N/A      |\n",
            "|    0   N/A  N/A     20652    C+G   ...grams\\todoist\\Todoist.exe    N/A      |\n",
            "+-----------------------------------------------------------------------------+\n"
          ],
          "name": "stdout"
        }
      ]
    },
    {
      "cell_type": "code",
      "metadata": {
        "id": "snw374aaTnnA"
      },
      "source": [
        "import os\n",
        "import sys\n",
        "import pdb\n",
        "import numpy as np\n",
        "import matplotlib.pyplot as plt\n",
        "from pathlib import Path\n",
        "from matplotlib import animation, rc\n",
        "from tqdm.auto import tqdm\n",
        "\n",
        "import torch\n",
        "import torch.nn as nn\n",
        "import torch.nn.functional as F\n",
        "import torch.optim as optim\n",
        "import torchvision.datasets as datasets\n",
        "import torchvision.transforms as transforms\n",
        "import torchvision.utils as vutils\n",
        "\n",
        "# from torchsummary import summary\n",
        "from types import SimpleNamespace\n",
        "import json\n",
        "from metrics.torch_is_fid_score import is_fid_from_generator"
      ],
      "execution_count": 2,
      "outputs": []
    },
    {
      "cell_type": "code",
      "metadata": {
        "id": "fcsjaSKk1_J-"
      },
      "source": [
        "from models.transformer_generator import TGenerator\n",
        "from models.ViT_discriminator import Discriminator\n",
        "from utils.utils import check_gpu, display_images, set_seed\n",
        "from utils.checkpoint import Checkpoint\n",
        "from utils.loss import wgangp_eps_loss\n",
        "from utils.datasets import ImageDataset\n",
        "%load_ext autoreload\n",
        "%autoreload 2"
      ],
      "execution_count": 3,
      "outputs": []
    },
    {
      "cell_type": "code",
      "metadata": {
        "id": "hjctAwsi1aIt"
      },
      "source": [
        "gdrive = Path('C:\\\\GANs\\\\')"
      ],
      "execution_count": 4,
      "outputs": []
    },
    {
      "cell_type": "code",
      "metadata": {
        "colab": {
          "base_uri": "https://localhost:8080/"
        },
        "id": "9vUBiEMHoI7L",
        "outputId": "2e31aab7-7006-480f-a40f-27577d7fd2a1"
      },
      "source": [
        "# seed notebook\n",
        "set_seed(seed=123)\n",
        "device = check_gpu()\n",
        "print(f'Using device: {device}')"
      ],
      "execution_count": 5,
      "outputs": [
        {
          "output_type": "stream",
          "text": [
            "Using device: cuda\n"
          ],
          "name": "stdout"
        }
      ]
    },
    {
      "cell_type": "code",
      "metadata": {
        "id": "SJw1ayYHPsPS",
        "colab": {
          "base_uri": "https://localhost:8080/"
        },
        "outputId": "7e80f69b-9f42-4544-e251-7ad61af44980"
      },
      "source": [
        "!set PYTHONPATH=%PYTHONPATH%;C:/GitHub/GANs && python ./scripts/create_fid_stats.py -d cifar_10 -t False"
      ],
      "execution_count": 6,
      "outputs": [
        {
          "output_type": "stream",
          "text": [
            "Namespace(batch_size=256, dataset='cifar_10', save='fid_stats', train='False')\n",
            "Files already downloaded and verified\n",
            "fid_stats\\cifar_10_valid_fid_stats.npz exists. Exiting !!!\n"
          ],
          "name": "stdout"
        }
      ]
    },
    {
      "cell_type": "markdown",
      "metadata": {
        "id": "_klsaWZY1Vbd"
      },
      "source": [
        "# Inference"
      ]
    },
    {
      "cell_type": "code",
      "metadata": {
        "id": "OAnOtwJII081"
      },
      "source": [
        "gen_batch_sz = 64\n",
        "dis_batch_sz = 32\n",
        "latent_dims = 1024\n",
        "lr, beta1, beta2 = 1e-4, 0, 0.999"
      ],
      "execution_count": 7,
      "outputs": []
    },
    {
      "cell_type": "code",
      "metadata": {
        "colab": {
          "base_uri": "https://localhost:8080/"
        },
        "id": "lRqYfP8P5kA7",
        "outputId": "7642499c-77dc-402b-fbd7-288c478409fb"
      },
      "source": [
        "# Add Horizontal Flip by default\n",
        "tfms = [transforms.RandomHorizontalFlip()]\n",
        "dataset =  ImageDataset('cifar_10', batch_sz=dis_batch_sz, tfms=tfms, \n",
        "                        num_workers=2, drop_last=True)\n",
        "# display_images(dataset.train_loader)"
      ],
      "execution_count": 8,
      "outputs": [
        {
          "output_type": "stream",
          "text": [
            "Files already downloaded and verified\n"
          ],
          "name": "stdout"
        }
      ]
    },
    {
      "cell_type": "code",
      "metadata": {
        "id": "0xMtpSUcFao9"
      },
      "source": [
        "Gen = TGenerator(latent_dims=latent_dims).to(device)\n",
        "fixed_z = torch.randn(gen_batch_sz, latent_dims, device=device)\n",
        "# summary(Gen,(latent_dims,))"
      ],
      "execution_count": 9,
      "outputs": []
    },
    {
      "cell_type": "code",
      "metadata": {
        "id": "oSl65ocvm4db"
      },
      "source": [
        "args = SimpleNamespace(**{\"d_depth\": 7, \"df_dim\": 384, \"img_size\": 32, \"patch_size\": 8})\n",
        "Dis = Discriminator(args).to(device)\n",
        "# summary(Dis,(3,32,32,))"
      ],
      "execution_count": 10,
      "outputs": []
    },
    {
      "cell_type": "code",
      "metadata": {
        "id": "rfyd9KYkRr0O"
      },
      "source": [
        "optG = optim.AdamW(Gen.parameters(), lr=lr, betas=(beta1, beta2))\n",
        "optD = optim.AdamW(Dis.parameters(), lr=lr, betas=(beta1, beta2))"
      ],
      "execution_count": 11,
      "outputs": []
    },
    {
      "cell_type": "code",
      "metadata": {
        "id": "l-feVFNTGI8X"
      },
      "source": [
        "with open('results.json') as fp:\n",
        "  results = json.load(fp)"
      ],
      "execution_count": 12,
      "outputs": []
    },
    {
      "cell_type": "code",
      "metadata": {
        "id": "A9St140O0YjM",
        "colab": {
          "base_uri": "https://localhost:8080/",
          "height": 51,
          "referenced_widgets": [
            "741bc5012a4d4d218cdaa4d5aa9051e9",
            "d7e6fcbab89240289c50d22fd42bd907",
            "b1b5d7be7d8b4011a2c709c328283c7f",
            "2f3d270a015247bdafe2f078262b0c8f",
            "33e5b5eec9374cee9a8dc2470763b0f4",
            "530434d36f7e470ab56fad2060dbbba7",
            "696934ec05d24075af05bc1f38e660e9",
            "c457f17d75d948c79f3ed1557ed5aadf",
            "657e97e4977d411e88fe322812b5c0d7",
            "c687cc5c9d9c42d197596bb6099ace2e",
            "287a5531bf124a93b1673bfafc20230e",
            "83d92482c3ae4611bb84c5fbd1d27ceb",
            "36ce1412399f450d96ed5848f0ed1de3",
            "caec3fede0294086a9bd863565f61076",
            "24a35382b416465eaca42a9b9f030021",
            "3aff8cf53f9c4360ab278bf0dc22fa4e",
            "395a9528d5094e4bbdb57750d8033347",
            "5834b35bf09e4038a24b92c5b51ff60b",
            "5a2e5cfe880a4632863f898881abac25",
            "b17a16ac752049d6bff31a1715add9dc",
            "b0b1cddf3b424d0b8b93a4b0e2f409e3",
            "ab92c10bb9414125b5a06bf1de09e07c"
          ]
        },
        "outputId": "56960366-f4d1-467a-9d18-84c302f9ad1c"
      },
      "source": [
        "stat_path = Path('fid_stats/cifar_10_valid_fid_stats.npz')\n",
        "experiments = ['no_aug', 'flip_lr', 'full_aug', 'co_training', \"attn_init\"]\n",
        "\n",
        "for exp in experiments:\n",
        "  ckp_folder = gdrive/exp\n",
        "  for filename in os.listdir(ckp_folder):\n",
        "      if exp not in results:\n",
        "          results[exp] = {'epochs':[],'iss':[],'fids':[]}\n",
        "      epoch = int(filename[:-4].split('_')[-1])\n",
        "      if epoch not in results[exp]['epochs']:\n",
        "      \n",
        "          Gen, Dis, optG, optD, start_epoch, old_logs = \\\n",
        "              Checkpoint.load_checkpoint(ckp_folder/filename, Gen, Dis, optG, optD)\n",
        "          assert start_epoch > 0\n",
        "          \n",
        "          inception_score, fid = is_fid_from_generator(generator=Gen,\n",
        "                                                  latent_dims=latent_dims,\n",
        "                                                  num_imgs=10000,\n",
        "                                                  batch_sz=64,\n",
        "                                                  fid_stat_path = stat_path)\n",
        "          print(fid)\n",
        "          results[exp]['iss'].append(inception_score)\n",
        "          results[exp]['fids'].append(fid)\n",
        "          results[exp]['epochs'].append(epoch)\n"
      ],
      "execution_count": 17,
      "outputs": [
        {
          "output_type": "stream",
          "text": [
            "=> Loading checkpoint: C:\\GANs\\attn_init\\GanModel_160.pth\n"
          ],
          "name": "stdout"
        },
        {
          "output_type": "display_data",
          "data": {
            "text/plain": [
              "HBox(children=(HTML(value='generating images'), FloatProgress(value=0.0, max=157.0), HTML(value='')))"
            ],
            "application/vnd.jupyter.widget-view+json": {
              "version_major": 2,
              "version_minor": 0,
              "model_id": "741bc5012a4d4d218cdaa4d5aa9051e9"
            }
          },
          "metadata": {
            "tags": []
          }
        },
        {
          "output_type": "display_data",
          "data": {
            "text/plain": [
              "HBox(children=(HTML(value='inception_score_and_fid'), FloatProgress(value=0.0, layout=Layout(flex='2'), max=10…"
            ],
            "application/vnd.jupyter.widget-view+json": {
              "version_major": 2,
              "version_minor": 0,
              "model_id": "83d92482c3ae4611bb84c5fbd1d27ceb"
            }
          },
          "metadata": {
            "tags": []
          }
        },
        {
          "output_type": "stream",
          "text": [
            "38.139129638671875\n"
          ],
          "name": "stdout"
        }
      ]
    },
    {
      "cell_type": "code",
      "metadata": {
        "id": "Ct-D_yEhGQV_"
      },
      "source": [
        "with open('results.json', 'w') as fp:\n",
        "  json.dump(results, fp, indent=4, sort_keys=True)"
      ],
      "execution_count": 18,
      "outputs": []
    },
    {
      "cell_type": "markdown",
      "metadata": {
        "id": "mWLxUnXX1lGd"
      },
      "source": [
        "# Analysis"
      ]
    },
    {
      "cell_type": "code",
      "metadata": {
        "colab": {
          "base_uri": "https://localhost:8080/",
          "height": 621
        },
        "id": "0n6lbjeLEL38",
        "outputId": "0787f7cf-6ede-4b92-9cb8-7ff558a9cad4"
      },
      "source": [
        "fig, axs = plt.subplots(2,1,figsize=(10,10))\n",
        "fig.add_subplot(111, frameon=False)\n",
        "plt.tick_params(labelcolor='none', top=False, bottom=False, left=False, right=False)\n",
        "\n",
        "for idx, exp in enumerate(results.keys()):\n",
        "  e = results[exp]['epochs']\n",
        "  fid = results[exp]['fids']\n",
        "  inception_score = results[exp]['iss']\n",
        "  score = [s[0] for s in inception_score]\n",
        "\n",
        "  axs[0].plot(e,fid,'-o',label=exp)\n",
        "  axs[1].plot(e,score,'-o', label=exp)\n",
        "\n",
        "axs[0].set_ylabel('FID')\n",
        "axs[1].set_ylabel('Inception Score')\n",
        "\n",
        "plt.title('Scores vs Training Epoch')\n",
        "plt.xlabel(\"Epoch\")\n",
        "\n",
        "axs[0].legend()\n",
        "axs[1].legend()\n",
        "plt.show()"
      ],
      "execution_count": 19,
      "outputs": [
        {
          "output_type": "display_data",
          "data": {
            "text/plain": [
              "<Figure size 720x720 with 3 Axes>"
            ],
            "image/png": "[encoded data removed]"
          },
          "metadata": {
            "tags": [],
            "needs_background": "light"
          }
        }
      ]
    },
    {
      "cell_type": "code",
      "metadata": {
        "colab": {
          "base_uri": "https://localhost:8080/"
        },
        "id": "u4NbJlk0SEqZ",
        "outputId": "7a897727-0716-40de-d3d9-62617f501d53"
      },
      "source": [
        "from tabulate import tabulate\n",
        "table = []\n",
        "for exp in results.keys():\n",
        "  inception_score = [s[0] for s in results[exp]['iss']]\n",
        "  table.append([exp,max(results[exp]['epochs']),results[exp]['epochs'][np.nanargmin(results[exp]['fids'])], min(results[exp]['fids']), results[exp]['epochs'][np.nanargmax(inception_score)], max(inception_score)])\n",
        "\n",
        "print(tabulate(table, headers=[\"Experiment\",\"Training Epochs\",\"Min FID Epoch\", \"Min FID\", \"Max IS Epoch\", \"Max IS\"]))"
      ],
      "execution_count": 20,
      "outputs": [
        {
          "output_type": "stream",
          "text": [
            "Experiment      Training Epochs    Min FID Epoch    Min FID    Max IS Epoch    Max IS\n",
            "------------  -----------------  ---------------  ---------  --------------  --------\n",
            "attn_init                   160              155    36.0535             160   7.75127\n",
            "co_training                 185              160    36.1584             155   7.6132\n",
            "flip_lr                      90               20    69.9796              50   6.48188\n",
            "full_aug                    171              137    40.784              162   7.3485\n",
            "no_aug                      100               20    77.8442              50   6.01709\n"
          ],
          "name": "stdout"
        }
      ]
    },
    {
      "cell_type": "code",
      "metadata": {
        "id": "vm14tWrK1NgV"
      },
      "source": [
        ""
      ],
      "execution_count": 16,
      "outputs": []
    }
  ]
}