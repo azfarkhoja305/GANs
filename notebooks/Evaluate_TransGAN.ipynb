{
  "nbformat": 4,
  "nbformat_minor": 0,
  "metadata": {
    "accelerator": "GPU",
    "colab": {
      "name": "DC GAN-CIFAR.ipynb",
      "provenance": [],
      "collapsed_sections": [],
      "include_colab_link": true
    },
    "kernelspec": {
      "display_name": "Python 3",
      "name": "python3",
      "language": "python"
    },
    "widgets": {
      "application/vnd.jupyter.widget-state+json": {
        "8ec3aa8db63c4de4a12541ba93611b2c": {
          "model_module": "@jupyter-widgets/controls",
          "model_name": "HBoxModel",
          "state": {
            "_dom_classes": [],
            "_model_module": "@jupyter-widgets/controls",
            "_model_module_version": "1.5.0",
            "_model_name": "HBoxModel",
            "_view_count": null,
            "_view_module": "@jupyter-widgets/controls",
            "_view_module_version": "1.5.0",
            "_view_name": "HBoxView",
            "box_style": "",
            "children": [
              "IPY_MODEL_2cc2d11ea19e4b4eb35b421967c5c1b9",
              "IPY_MODEL_b5fa9871ad9040b58a9516d885a423b4",
              "IPY_MODEL_b97081a409464399a2840b0b43125374"
            ],
            "layout": "IPY_MODEL_cae0434b9c884472b60b2a6b0a371eda"
          }
        },
        "2cc2d11ea19e4b4eb35b421967c5c1b9": {
          "model_module": "@jupyter-widgets/controls",
          "model_name": "HTMLModel",
          "state": {
            "_dom_classes": [],
            "_model_module": "@jupyter-widgets/controls",
            "_model_module_version": "1.5.0",
            "_model_name": "HTMLModel",
            "_view_count": null,
            "_view_module": "@jupyter-widgets/controls",
            "_view_module_version": "1.5.0",
            "_view_name": "HTMLView",
            "description": "",
            "description_tooltip": null,
            "layout": "IPY_MODEL_e3f3988850104a9e83e8c13ed28ae481",
            "placeholder": "​",
            "style": "IPY_MODEL_eaac8e9acb8742bc81b455c7b600bf8a",
            "value": "generating images: 100%"
          }
        },
        "b5fa9871ad9040b58a9516d885a423b4": {
          "model_module": "@jupyter-widgets/controls",
          "model_name": "FloatProgressModel",
          "state": {
            "_dom_classes": [],
            "_model_module": "@jupyter-widgets/controls",
            "_model_module_version": "1.5.0",
            "_model_name": "FloatProgressModel",
            "_view_count": null,
            "_view_module": "@jupyter-widgets/controls",
            "_view_module_version": "1.5.0",
            "_view_name": "ProgressView",
            "bar_style": "",
            "description": "",
            "description_tooltip": null,
            "layout": "IPY_MODEL_c859aaf03f974272a478ac11ae85515b",
            "max": 157,
            "min": 0,
            "orientation": "horizontal",
            "style": "IPY_MODEL_fbd2a78c9f0f413c8572b811d4bdd7cf",
            "value": 157
          }
        },
        "b97081a409464399a2840b0b43125374": {
          "model_module": "@jupyter-widgets/controls",
          "model_name": "HTMLModel",
          "state": {
            "_dom_classes": [],
            "_model_module": "@jupyter-widgets/controls",
            "_model_module_version": "1.5.0",
            "_model_name": "HTMLModel",
            "_view_count": null,
            "_view_module": "@jupyter-widgets/controls",
            "_view_module_version": "1.5.0",
            "_view_name": "HTMLView",
            "description": "",
            "description_tooltip": null,
            "layout": "IPY_MODEL_3e6619d007bf4d12bda62520ddb1c903",
            "placeholder": "​",
            "style": "IPY_MODEL_ff09e7720a02402f86b94c45d62372b6",
            "value": " 157/157 [00:26&lt;00:00,  5.28it/s]"
          }
        },
        "cae0434b9c884472b60b2a6b0a371eda": {
          "model_module": "@jupyter-widgets/base",
          "model_name": "LayoutModel",
          "state": {
            "_model_module": "@jupyter-widgets/base",
            "_model_module_version": "1.2.0",
            "_model_name": "LayoutModel",
            "_view_count": null,
            "_view_module": "@jupyter-widgets/base",
            "_view_module_version": "1.2.0",
            "_view_name": "LayoutView",
            "align_content": null,
            "align_items": null,
            "align_self": null,
            "border": null,
            "bottom": null,
            "display": null,
            "flex": null,
            "flex_flow": null,
            "grid_area": null,
            "grid_auto_columns": null,
            "grid_auto_flow": null,
            "grid_auto_rows": null,
            "grid_column": null,
            "grid_gap": null,
            "grid_row": null,
            "grid_template_areas": null,
            "grid_template_columns": null,
            "grid_template_rows": null,
            "height": null,
            "justify_content": null,
            "justify_items": null,
            "left": null,
            "margin": null,
            "max_height": null,
            "max_width": null,
            "min_height": null,
            "min_width": null,
            "object_fit": null,
            "object_position": null,
            "order": null,
            "overflow": null,
            "overflow_x": null,
            "overflow_y": null,
            "padding": null,
            "right": null,
            "top": null,
            "visibility": null,
            "width": null
          }
        },
        "e3f3988850104a9e83e8c13ed28ae481": {
          "model_module": "@jupyter-widgets/base",
          "model_name": "LayoutModel",
          "state": {
            "_model_module": "@jupyter-widgets/base",
            "_model_module_version": "1.2.0",
            "_model_name": "LayoutModel",
            "_view_count": null,
            "_view_module": "@jupyter-widgets/base",
            "_view_module_version": "1.2.0",
            "_view_name": "LayoutView",
            "align_content": null,
            "align_items": null,
            "align_self": null,
            "border": null,
            "bottom": null,
            "display": null,
            "flex": null,
            "flex_flow": null,
            "grid_area": null,
            "grid_auto_columns": null,
            "grid_auto_flow": null,
            "grid_auto_rows": null,
            "grid_column": null,
            "grid_gap": null,
            "grid_row": null,
            "grid_template_areas": null,
            "grid_template_columns": null,
            "grid_template_rows": null,
            "height": null,
            "justify_content": null,
            "justify_items": null,
            "left": null,
            "margin": null,
            "max_height": null,
            "max_width": null,
            "min_height": null,
            "min_width": null,
            "object_fit": null,
            "object_position": null,
            "order": null,
            "overflow": null,
            "overflow_x": null,
            "overflow_y": null,
            "padding": null,
            "right": null,
            "top": null,
            "visibility": null,
            "width": null
          }
        },
        "eaac8e9acb8742bc81b455c7b600bf8a": {
          "model_module": "@jupyter-widgets/controls",
          "model_name": "DescriptionStyleModel",
          "state": {
            "_model_module": "@jupyter-widgets/controls",
            "_model_module_version": "1.5.0",
            "_model_name": "DescriptionStyleModel",
            "_view_count": null,
            "_view_module": "@jupyter-widgets/base",
            "_view_module_version": "1.2.0",
            "_view_name": "StyleView",
            "description_width": ""
          }
        },
        "c859aaf03f974272a478ac11ae85515b": {
          "model_module": "@jupyter-widgets/base",
          "model_name": "LayoutModel",
          "state": {
            "_model_module": "@jupyter-widgets/base",
            "_model_module_version": "1.2.0",
            "_model_name": "LayoutModel",
            "_view_count": null,
            "_view_module": "@jupyter-widgets/base",
            "_view_module_version": "1.2.0",
            "_view_name": "LayoutView",
            "align_content": null,
            "align_items": null,
            "align_self": null,
            "border": null,
            "bottom": null,
            "display": null,
            "flex": null,
            "flex_flow": null,
            "grid_area": null,
            "grid_auto_columns": null,
            "grid_auto_flow": null,
            "grid_auto_rows": null,
            "grid_column": null,
            "grid_gap": null,
            "grid_row": null,
            "grid_template_areas": null,
            "grid_template_columns": null,
            "grid_template_rows": null,
            "height": null,
            "justify_content": null,
            "justify_items": null,
            "left": null,
            "margin": null,
            "max_height": null,
            "max_width": null,
            "min_height": null,
            "min_width": null,
            "object_fit": null,
            "object_position": null,
            "order": null,
            "overflow": null,
            "overflow_x": null,
            "overflow_y": null,
            "padding": null,
            "right": null,
            "top": null,
            "visibility": null,
            "width": null
          }
        },
        "fbd2a78c9f0f413c8572b811d4bdd7cf": {
          "model_module": "@jupyter-widgets/controls",
          "model_name": "ProgressStyleModel",
          "state": {
            "_model_module": "@jupyter-widgets/controls",
            "_model_module_version": "1.5.0",
            "_model_name": "ProgressStyleModel",
            "_view_count": null,
            "_view_module": "@jupyter-widgets/base",
            "_view_module_version": "1.2.0",
            "_view_name": "StyleView",
            "bar_color": null,
            "description_width": ""
          }
        },
        "3e6619d007bf4d12bda62520ddb1c903": {
          "model_module": "@jupyter-widgets/base",
          "model_name": "LayoutModel",
          "state": {
            "_model_module": "@jupyter-widgets/base",
            "_model_module_version": "1.2.0",
            "_model_name": "LayoutModel",
            "_view_count": null,
            "_view_module": "@jupyter-widgets/base",
            "_view_module_version": "1.2.0",
            "_view_name": "LayoutView",
            "align_content": null,
            "align_items": null,
            "align_self": null,
            "border": null,
            "bottom": null,
            "display": null,
            "flex": null,
            "flex_flow": null,
            "grid_area": null,
            "grid_auto_columns": null,
            "grid_auto_flow": null,
            "grid_auto_rows": null,
            "grid_column": null,
            "grid_gap": null,
            "grid_row": null,
            "grid_template_areas": null,
            "grid_template_columns": null,
            "grid_template_rows": null,
            "height": null,
            "justify_content": null,
            "justify_items": null,
            "left": null,
            "margin": null,
            "max_height": null,
            "max_width": null,
            "min_height": null,
            "min_width": null,
            "object_fit": null,
            "object_position": null,
            "order": null,
            "overflow": null,
            "overflow_x": null,
            "overflow_y": null,
            "padding": null,
            "right": null,
            "top": null,
            "visibility": null,
            "width": null
          }
        },
        "ff09e7720a02402f86b94c45d62372b6": {
          "model_module": "@jupyter-widgets/controls",
          "model_name": "DescriptionStyleModel",
          "state": {
            "_model_module": "@jupyter-widgets/controls",
            "_model_module_version": "1.5.0",
            "_model_name": "DescriptionStyleModel",
            "_view_count": null,
            "_view_module": "@jupyter-widgets/base",
            "_view_module_version": "1.2.0",
            "_view_name": "StyleView",
            "description_width": ""
          }
        },
        "164b9f66b7b8441a8cd5bcfd2a916f2a": {
          "model_module": "@jupyter-widgets/controls",
          "model_name": "HBoxModel",
          "state": {
            "_dom_classes": [],
            "_model_module": "@jupyter-widgets/controls",
            "_model_module_version": "1.5.0",
            "_model_name": "HBoxModel",
            "_view_count": null,
            "_view_module": "@jupyter-widgets/controls",
            "_view_module_version": "1.5.0",
            "_view_name": "HBoxView",
            "box_style": "",
            "children": [
              "IPY_MODEL_f7e693916ead4410b64c73fabbe0aac7",
              "IPY_MODEL_a5c4ebe45b954ab7a6c4c4f333c77b24",
              "IPY_MODEL_e02c9eb66e5c4377932478a8ce85173c"
            ],
            "layout": "IPY_MODEL_ab4c325b21d84a9397db35859afe26f1"
          }
        },
        "f7e693916ead4410b64c73fabbe0aac7": {
          "model_module": "@jupyter-widgets/controls",
          "model_name": "HTMLModel",
          "state": {
            "_dom_classes": [],
            "_model_module": "@jupyter-widgets/controls",
            "_model_module_version": "1.5.0",
            "_model_name": "HTMLModel",
            "_view_count": null,
            "_view_module": "@jupyter-widgets/controls",
            "_view_module_version": "1.5.0",
            "_view_name": "HTMLView",
            "description": "",
            "description_tooltip": null,
            "layout": "IPY_MODEL_9230ce01adb0487d9d5afc6d84a543c5",
            "placeholder": "​",
            "style": "IPY_MODEL_188a03175ec34abdb3a1142287bf0186",
            "value": "inception_score_and_fid: 100%"
          }
        },
        "a5c4ebe45b954ab7a6c4c4f333c77b24": {
          "model_module": "@jupyter-widgets/controls",
          "model_name": "FloatProgressModel",
          "state": {
            "_dom_classes": [],
            "_model_module": "@jupyter-widgets/controls",
            "_model_module_version": "1.5.0",
            "_model_name": "FloatProgressModel",
            "_view_count": null,
            "_view_module": "@jupyter-widgets/controls",
            "_view_module_version": "1.5.0",
            "_view_name": "ProgressView",
            "bar_style": "",
            "description": "",
            "description_tooltip": null,
            "layout": "IPY_MODEL_2c8005457dda41aba74799fb9f62f0c0",
            "max": 10000,
            "min": 0,
            "orientation": "horizontal",
            "style": "IPY_MODEL_58e2763eb31c4988a6e1d62b24575067",
            "value": 10000
          }
        },
        "e02c9eb66e5c4377932478a8ce85173c": {
          "model_module": "@jupyter-widgets/controls",
          "model_name": "HTMLModel",
          "state": {
            "_dom_classes": [],
            "_model_module": "@jupyter-widgets/controls",
            "_model_module_version": "1.5.0",
            "_model_name": "HTMLModel",
            "_view_count": null,
            "_view_module": "@jupyter-widgets/controls",
            "_view_module_version": "1.5.0",
            "_view_name": "HTMLView",
            "description": "",
            "description_tooltip": null,
            "layout": "IPY_MODEL_2d41c805abf941459b80b1af0b264615",
            "placeholder": "​",
            "style": "IPY_MODEL_5b5d9936029a4427bb521e600d894f43",
            "value": " 10000/10000 [03:45&lt;00:00, 12.88it/s]"
          }
        },
        "ab4c325b21d84a9397db35859afe26f1": {
          "model_module": "@jupyter-widgets/base",
          "model_name": "LayoutModel",
          "state": {
            "_model_module": "@jupyter-widgets/base",
            "_model_module_version": "1.2.0",
            "_model_name": "LayoutModel",
            "_view_count": null,
            "_view_module": "@jupyter-widgets/base",
            "_view_module_version": "1.2.0",
            "_view_name": "LayoutView",
            "align_content": null,
            "align_items": null,
            "align_self": null,
            "border": null,
            "bottom": null,
            "display": "inline-flex",
            "flex": null,
            "flex_flow": "row wrap",
            "grid_area": null,
            "grid_auto_columns": null,
            "grid_auto_flow": null,
            "grid_auto_rows": null,
            "grid_column": null,
            "grid_gap": null,
            "grid_row": null,
            "grid_template_areas": null,
            "grid_template_columns": null,
            "grid_template_rows": null,
            "height": null,
            "justify_content": null,
            "justify_items": null,
            "left": null,
            "margin": null,
            "max_height": null,
            "max_width": null,
            "min_height": null,
            "min_width": null,
            "object_fit": null,
            "object_position": null,
            "order": null,
            "overflow": null,
            "overflow_x": null,
            "overflow_y": null,
            "padding": null,
            "right": null,
            "top": null,
            "visibility": null,
            "width": "100%"
          }
        },
        "9230ce01adb0487d9d5afc6d84a543c5": {
          "model_module": "@jupyter-widgets/base",
          "model_name": "LayoutModel",
          "state": {
            "_model_module": "@jupyter-widgets/base",
            "_model_module_version": "1.2.0",
            "_model_name": "LayoutModel",
            "_view_count": null,
            "_view_module": "@jupyter-widgets/base",
            "_view_module_version": "1.2.0",
            "_view_name": "LayoutView",
            "align_content": null,
            "align_items": null,
            "align_self": null,
            "border": null,
            "bottom": null,
            "display": null,
            "flex": null,
            "flex_flow": null,
            "grid_area": null,
            "grid_auto_columns": null,
            "grid_auto_flow": null,
            "grid_auto_rows": null,
            "grid_column": null,
            "grid_gap": null,
            "grid_row": null,
            "grid_template_areas": null,
            "grid_template_columns": null,
            "grid_template_rows": null,
            "height": null,
            "justify_content": null,
            "justify_items": null,
            "left": null,
            "margin": null,
            "max_height": null,
            "max_width": null,
            "min_height": null,
            "min_width": null,
            "object_fit": null,
            "object_position": null,
            "order": null,
            "overflow": null,
            "overflow_x": null,
            "overflow_y": null,
            "padding": null,
            "right": null,
            "top": null,
            "visibility": null,
            "width": null
          }
        },
        "188a03175ec34abdb3a1142287bf0186": {
          "model_module": "@jupyter-widgets/controls",
          "model_name": "DescriptionStyleModel",
          "state": {
            "_model_module": "@jupyter-widgets/controls",
            "_model_module_version": "1.5.0",
            "_model_name": "DescriptionStyleModel",
            "_view_count": null,
            "_view_module": "@jupyter-widgets/base",
            "_view_module_version": "1.2.0",
            "_view_name": "StyleView",
            "description_width": ""
          }
        },
        "2c8005457dda41aba74799fb9f62f0c0": {
          "model_module": "@jupyter-widgets/base",
          "model_name": "LayoutModel",
          "state": {
            "_model_module": "@jupyter-widgets/base",
            "_model_module_version": "1.2.0",
            "_model_name": "LayoutModel",
            "_view_count": null,
            "_view_module": "@jupyter-widgets/base",
            "_view_module_version": "1.2.0",
            "_view_name": "LayoutView",
            "align_content": null,
            "align_items": null,
            "align_self": null,
            "border": null,
            "bottom": null,
            "display": null,
            "flex": "2",
            "flex_flow": null,
            "grid_area": null,
            "grid_auto_columns": null,
            "grid_auto_flow": null,
            "grid_auto_rows": null,
            "grid_column": null,
            "grid_gap": null,
            "grid_row": null,
            "grid_template_areas": null,
            "grid_template_columns": null,
            "grid_template_rows": null,
            "height": null,
            "justify_content": null,
            "justify_items": null,
            "left": null,
            "margin": null,
            "max_height": null,
            "max_width": null,
            "min_height": null,
            "min_width": null,
            "object_fit": null,
            "object_position": null,
            "order": null,
            "overflow": null,
            "overflow_x": null,
            "overflow_y": null,
            "padding": null,
            "right": null,
            "top": null,
            "visibility": null,
            "width": null
          }
        },
        "58e2763eb31c4988a6e1d62b24575067": {
          "model_module": "@jupyter-widgets/controls",
          "model_name": "ProgressStyleModel",
          "state": {
            "_model_module": "@jupyter-widgets/controls",
            "_model_module_version": "1.5.0",
            "_model_name": "ProgressStyleModel",
            "_view_count": null,
            "_view_module": "@jupyter-widgets/base",
            "_view_module_version": "1.2.0",
            "_view_name": "StyleView",
            "bar_color": null,
            "description_width": ""
          }
        },
        "2d41c805abf941459b80b1af0b264615": {
          "model_module": "@jupyter-widgets/base",
          "model_name": "LayoutModel",
          "state": {
            "_model_module": "@jupyter-widgets/base",
            "_model_module_version": "1.2.0",
            "_model_name": "LayoutModel",
            "_view_count": null,
            "_view_module": "@jupyter-widgets/base",
            "_view_module_version": "1.2.0",
            "_view_name": "LayoutView",
            "align_content": null,
            "align_items": null,
            "align_self": null,
            "border": null,
            "bottom": null,
            "display": null,
            "flex": null,
            "flex_flow": null,
            "grid_area": null,
            "grid_auto_columns": null,
            "grid_auto_flow": null,
            "grid_auto_rows": null,
            "grid_column": null,
            "grid_gap": null,
            "grid_row": null,
            "grid_template_areas": null,
            "grid_template_columns": null,
            "grid_template_rows": null,
            "height": null,
            "justify_content": null,
            "justify_items": null,
            "left": null,
            "margin": null,
            "max_height": null,
            "max_width": null,
            "min_height": null,
            "min_width": null,
            "object_fit": null,
            "object_position": null,
            "order": null,
            "overflow": null,
            "overflow_x": null,
            "overflow_y": null,
            "padding": null,
            "right": null,
            "top": null,
            "visibility": null,
            "width": null
          }
        },
        "5b5d9936029a4427bb521e600d894f43": {
          "model_module": "@jupyter-widgets/controls",
          "model_name": "DescriptionStyleModel",
          "state": {
            "_model_module": "@jupyter-widgets/controls",
            "_model_module_version": "1.5.0",
            "_model_name": "DescriptionStyleModel",
            "_view_count": null,
            "_view_module": "@jupyter-widgets/base",
            "_view_module_version": "1.2.0",
            "_view_name": "StyleView",
            "description_width": ""
          }
        }
      }
    }
  },
  "cells": [
    {
      "cell_type": "markdown",
      "metadata": {
        "id": "view-in-github",
        "colab_type": "text"
      },
      "source": [
        "<a href=\"https://colab.research.google.com/github/azfarkhoja305/GANs/blob/co-training/notebooks/Evaluate_TransGAN.ipynb\" target=\"_parent\"><img src=\"https://colab.research.google.com/assets/colab-badge.svg\" alt=\"Open In Colab\"/></a>"
      ]
    },
    {
      "cell_type": "markdown",
      "metadata": {
        "id": "0SWerrtj1YvW"
      },
      "source": [
        "# Initialization"
      ]
    },
    {
      "cell_type": "code",
      "metadata": {
        "id": "tt9aRbqXELop",
        "colab": {
          "base_uri": "https://localhost:8080/"
        },
        "outputId": "885b4a9c-ff31-4bd6-e802-4c34801672b6"
      },
      "source": [
        "# Check GPU\n",
        "!nvidia-smi"
      ],
      "execution_count": 1,
      "outputs": [
        {
          "output_type": "stream",
          "text": [
            "Thu Apr 15 22:55:45 2021       \n",
            "+-----------------------------------------------------------------------------+\n",
            "| NVIDIA-SMI 461.92       Driver Version: 461.92       CUDA Version: 11.2     |\n",
            "|-------------------------------+----------------------+----------------------+\n",
            "| GPU  Name            TCC/WDDM | Bus-Id        Disp.A | Volatile Uncorr. ECC |\n",
            "| Fan  Temp  Perf  Pwr:Usage/Cap|         Memory-Usage | GPU-Util  Compute M. |\n",
            "|                               |                      |               MIG M. |\n",
            "|===============================+======================+======================|\n",
            "|   0  GeForce GTX 106... WDDM  | 00000000:07:00.0  On |                  N/A |\n",
            "|  0%   41C    P0    26W / 120W |   1268MiB /  6144MiB |      0%      Default |\n",
            "|                               |                      |                  N/A |\n",
            "+-------------------------------+----------------------+----------------------+\n",
            "                                                                               \n",
            "+-----------------------------------------------------------------------------+\n",
            "| Processes:                                                                  |\n",
            "|  GPU   GI   CI        PID   Type   Process name                  GPU Memory |\n",
            "|        ID   ID                                                   Usage      |\n",
            "|=============================================================================|\n",
            "|    0   N/A  N/A      1360    C+G   Insufficient Permissions        N/A      |\n",
            "|    0   N/A  N/A      2940    C+G   ...lPanel\\SystemSettings.exe    N/A      |\n",
            "|    0   N/A  N/A      5484    C+G   ...5n1h2txyewy\\SearchApp.exe    N/A      |\n",
            "|    0   N/A  N/A      5496    C+G   C:\\Windows\\explorer.exe         N/A      |\n",
            "|    0   N/A  N/A      5784    C+G   ...me\\Application\\chrome.exe    N/A      |\n",
            "|    0   N/A  N/A      6724    C+G   ...artMenuExperienceHost.exe    N/A      |\n",
            "|    0   N/A  N/A      7648    C+G   ...ekyb3d8bbwe\\YourPhone.exe    N/A      |\n",
            "|    0   N/A  N/A      7992    C+G   ...nputApp\\TextInputHost.exe    N/A      |\n",
            "|    0   N/A  N/A      8128    C+G   ...bbwe\\Microsoft.Photos.exe    N/A      |\n",
            "|    0   N/A  N/A      8608    C+G   ...cw5n1h2txyewy\\LockApp.exe    N/A      |\n",
            "|    0   N/A  N/A      9668    C+G   ...b3d8bbwe\\WinStore.App.exe    N/A      |\n",
            "|    0   N/A  N/A     10508    C+G   ...t\\Teams\\current\\Teams.exe    N/A      |\n",
            "|    0   N/A  N/A     11268    C+G   ...y\\ShellExperienceHost.exe    N/A      |\n",
            "|    0   N/A  N/A     11588    C+G   ...in7x64\\steamwebhelper.exe    N/A      |\n",
            "|    0   N/A  N/A     12140    C+G   ...lack\\app-4.15.0\\slack.exe    N/A      |\n",
            "|    0   N/A  N/A     13420    C+G   ...\\app-1.0.9001\\Discord.exe    N/A      |\n",
            "|    0   N/A  N/A     13456    C+G   ...s\\Messenger\\Messenger.exe    N/A      |\n",
            "|    0   N/A  N/A     15192    C+G   ...zpdnekdrzrea0\\Spotify.exe    N/A      |\n",
            "|    0   N/A  N/A     15880    C+G   ...t\\Teams\\current\\Teams.exe    N/A      |\n",
            "|    0   N/A  N/A     17032    C+G   ...kyb3d8bbwe\\Calculator.exe    N/A      |\n",
            "+-----------------------------------------------------------------------------+\n"
          ],
          "name": "stdout"
        }
      ]
    },
    {
      "cell_type": "code",
      "metadata": {
        "id": "snw374aaTnnA"
      },
      "source": [
        "import os\n",
        "import sys\n",
        "import pdb\n",
        "import numpy as np\n",
        "import matplotlib.pyplot as plt\n",
        "from pathlib import Path\n",
        "from matplotlib import animation, rc\n",
        "from tqdm.auto import tqdm\n",
        "\n",
        "import torch\n",
        "import torch.nn as nn\n",
        "import torch.nn.functional as F\n",
        "import torch.optim as optim\n",
        "import torchvision.datasets as datasets\n",
        "import torchvision.transforms as transforms\n",
        "import torchvision.utils as vutils\n",
        "\n",
        "# from torchsummary import summary\n",
        "from types import SimpleNamespace\n",
        "import json\n",
        "from metrics.torch_is_fid_score import is_fid_from_generator"
      ],
      "execution_count": 2,
      "outputs": []
    },
    {
      "cell_type": "code",
      "metadata": {
        "id": "fcsjaSKk1_J-"
      },
      "source": [
        "from models.transformer_generator import TGenerator\n",
        "from models.ViT_discriminator import Discriminator\n",
        "from utils.utils import check_gpu, display_images, set_seed\n",
        "from utils.checkpoint import Checkpoint\n",
        "from utils.loss import wgangp_eps_loss\n",
        "from utils.datasets import ImageDataset\n",
        "%load_ext autoreload\n",
        "%autoreload 2"
      ],
      "execution_count": 3,
      "outputs": []
    },
    {
      "cell_type": "code",
      "metadata": {
        "id": "hjctAwsi1aIt"
      },
      "source": [
        "gdrive = Path('C:\\\\GANs\\\\')"
      ],
      "execution_count": 4,
      "outputs": []
    },
    {
      "cell_type": "code",
      "metadata": {
        "colab": {
          "base_uri": "https://localhost:8080/"
        },
        "id": "9vUBiEMHoI7L",
        "outputId": "29b716bd-df00-4364-8b7a-3b076c71e5a7"
      },
      "source": [
        "# seed notebook\n",
        "set_seed(seed=123)\n",
        "device = check_gpu()\n",
        "print(f'Using device: {device}')"
      ],
      "execution_count": 5,
      "outputs": [
        {
          "output_type": "stream",
          "text": [
            "Using device: cuda\n"
          ],
          "name": "stdout"
        }
      ]
    },
    {
      "cell_type": "code",
      "metadata": {
        "id": "SJw1ayYHPsPS",
        "colab": {
          "base_uri": "https://localhost:8080/"
        },
        "outputId": "c60469b9-1120-42db-ace2-713c71c15a89"
      },
      "source": [
        "!set PYTHONPATH=%PYTHONPATH%;C:/GitHub/GANs && python ./scripts/create_fid_stats.py -d cifar_10 -t False"
      ],
      "execution_count": 6,
      "outputs": [
        {
          "output_type": "stream",
          "text": [
            "Namespace(batch_size=256, dataset='cifar_10', save='fid_stats', train='False')\n",
            "Files already downloaded and verified\n",
            "fid_stats\\cifar_10_valid_fid_stats.npz exists. Exiting !!!\n"
          ],
          "name": "stdout"
        }
      ]
    },
    {
      "cell_type": "markdown",
      "metadata": {
        "id": "_klsaWZY1Vbd"
      },
      "source": [
        "# Inference"
      ]
    },
    {
      "cell_type": "code",
      "metadata": {
        "id": "OAnOtwJII081"
      },
      "source": [
        "gen_batch_sz = 64\n",
        "dis_batch_sz = 32\n",
        "latent_dims = 1024\n",
        "lr, beta1, beta2 = 1e-4, 0, 0.999"
      ],
      "execution_count": 7,
      "outputs": []
    },
    {
      "cell_type": "code",
      "metadata": {
        "colab": {
          "base_uri": "https://localhost:8080/"
        },
        "id": "lRqYfP8P5kA7",
        "outputId": "2416e9c3-5abd-4555-f651-f33e130bd19f"
      },
      "source": [
        "# Add Horizontal Flip by default\n",
        "tfms = [transforms.RandomHorizontalFlip()]\n",
        "dataset =  ImageDataset('cifar_10', batch_sz=dis_batch_sz, tfms=tfms, \n",
        "                        num_workers=2, drop_last=True)\n",
        "# display_images(dataset.train_loader)"
      ],
      "execution_count": 8,
      "outputs": [
        {
          "output_type": "stream",
          "text": [
            "Files already downloaded and verified\n"
          ],
          "name": "stdout"
        }
      ]
    },
    {
      "cell_type": "code",
      "metadata": {
        "id": "0xMtpSUcFao9"
      },
      "source": [
        "Gen = TGenerator(latent_dims=latent_dims).to(device)\n",
        "fixed_z = torch.randn(gen_batch_sz, latent_dims, device=device)\n",
        "# summary(Gen,(latent_dims,))"
      ],
      "execution_count": 9,
      "outputs": []
    },
    {
      "cell_type": "code",
      "metadata": {
        "id": "oSl65ocvm4db"
      },
      "source": [
        "args = SimpleNamespace(**{\"d_depth\": 7, \"df_dim\": 384, \"img_size\": 32, \"patch_size\": 8})\n",
        "Dis = Discriminator(args).to(device)\n",
        "# summary(Dis,(3,32,32,))"
      ],
      "execution_count": 10,
      "outputs": []
    },
    {
      "cell_type": "code",
      "metadata": {
        "id": "rfyd9KYkRr0O"
      },
      "source": [
        "optG = optim.AdamW(Gen.parameters(), lr=lr, betas=(beta1, beta2))\n",
        "optD = optim.AdamW(Dis.parameters(), lr=lr, betas=(beta1, beta2))"
      ],
      "execution_count": 11,
      "outputs": []
    },
    {
      "cell_type": "code",
      "metadata": {
        "id": "l-feVFNTGI8X"
      },
      "source": [
        "with open('results.json') as fp:\n",
        "  results = json.load(fp)"
      ],
      "execution_count": 12,
      "outputs": []
    },
    {
      "cell_type": "code",
      "metadata": {
        "id": "A9St140O0YjM",
        "colab": {
          "base_uri": "https://localhost:8080/",
          "height": 51,
          "referenced_widgets": [
            "8ec3aa8db63c4de4a12541ba93611b2c",
            "2cc2d11ea19e4b4eb35b421967c5c1b9",
            "b5fa9871ad9040b58a9516d885a423b4",
            "b97081a409464399a2840b0b43125374",
            "cae0434b9c884472b60b2a6b0a371eda",
            "e3f3988850104a9e83e8c13ed28ae481",
            "eaac8e9acb8742bc81b455c7b600bf8a",
            "c859aaf03f974272a478ac11ae85515b",
            "fbd2a78c9f0f413c8572b811d4bdd7cf",
            "3e6619d007bf4d12bda62520ddb1c903",
            "ff09e7720a02402f86b94c45d62372b6",
            "164b9f66b7b8441a8cd5bcfd2a916f2a",
            "f7e693916ead4410b64c73fabbe0aac7",
            "a5c4ebe45b954ab7a6c4c4f333c77b24",
            "e02c9eb66e5c4377932478a8ce85173c",
            "ab4c325b21d84a9397db35859afe26f1",
            "9230ce01adb0487d9d5afc6d84a543c5",
            "188a03175ec34abdb3a1142287bf0186",
            "2c8005457dda41aba74799fb9f62f0c0",
            "58e2763eb31c4988a6e1d62b24575067",
            "2d41c805abf941459b80b1af0b264615",
            "5b5d9936029a4427bb521e600d894f43"
          ]
        },
        "outputId": "7bff6a73-f510-47f0-952f-01e4cd93a2f3"
      },
      "source": [
        "stat_path = Path('fid_stats/cifar_10_valid_fid_stats.npz')\n",
        "experiments = ['no_aug', 'flip_lr', 'full_aug', 'co_training']\n",
        "\n",
        "for exp in experiments:\n",
        "  ckp_folder = gdrive/exp\n",
        "  for filename in os.listdir(ckp_folder):\n",
        "      if exp not in results:\n",
        "          results[exp] = {'epochs':[],'iss':[],'fids':[]}\n",
        "      epoch = int(filename[:-4].split('_')[-1])\n",
        "      if epoch not in results[exp]['epochs']:\n",
        "      \n",
        "          Gen, Dis, optG, optD, start_epoch, old_logs = \\\n",
        "              Checkpoint.load_checkpoint(ckp_folder/filename, Gen, Dis, optG, optD)\n",
        "          assert start_epoch > 0\n",
        "          \n",
        "          inception_score, fid = is_fid_from_generator(generator=Gen,\n",
        "                                                  latent_dims=latent_dims,\n",
        "                                                  num_imgs=10000,\n",
        "                                                  batch_sz=64,\n",
        "                                                  fid_stat_path = stat_path)\n",
        "          print(fid)\n",
        "          results[exp]['iss'].append(inception_score)\n",
        "          results[exp]['fids'].append(fid)\n",
        "          results[exp]['epochs'].append(epoch)\n"
      ],
      "execution_count": 17,
      "outputs": [
        {
          "output_type": "stream",
          "text": [
            "=> Loading checkpoint: C:\\GANs\\co_training\\GanModel_078.pth\n"
          ],
          "name": "stdout"
        },
        {
          "output_type": "display_data",
          "data": {
            "text/plain": [
              "HBox(children=(HTML(value='generating images'), FloatProgress(value=0.0, max=157.0), HTML(value='')))"
            ],
            "application/vnd.jupyter.widget-view+json": {
              "version_major": 2,
              "version_minor": 0,
              "model_id": "8ec3aa8db63c4de4a12541ba93611b2c"
            }
          },
          "metadata": {
            "tags": []
          }
        },
        {
          "output_type": "display_data",
          "data": {
            "text/plain": [
              "HBox(children=(HTML(value='inception_score_and_fid'), FloatProgress(value=0.0, layout=Layout(flex='2'), max=10…"
            ],
            "application/vnd.jupyter.widget-view+json": {
              "version_major": 2,
              "version_minor": 0,
              "model_id": "164b9f66b7b8441a8cd5bcfd2a916f2a"
            }
          },
          "metadata": {
            "tags": []
          }
        },
        {
          "output_type": "stream",
          "text": [
            "85.33575439453125\n"
          ],
          "name": "stdout"
        }
      ]
    },
    {
      "cell_type": "code",
      "metadata": {
        "id": "Ct-D_yEhGQV_"
      },
      "source": [
        "with open('results.json', 'w') as fp:\n",
        "  json.dump(results, fp)"
      ],
      "execution_count": 18,
      "outputs": []
    },
    {
      "cell_type": "markdown",
      "metadata": {
        "id": "mWLxUnXX1lGd"
      },
      "source": [
        "# Analysis"
      ]
    },
    {
      "cell_type": "code",
      "metadata": {
        "colab": {
          "base_uri": "https://localhost:8080/",
          "height": 621
        },
        "id": "0n6lbjeLEL38",
        "outputId": "e417178b-85fe-454d-de44-14c255f8456f"
      },
      "source": [
        "fig, axs = plt.subplots(2,1,figsize=(10,10))\n",
        "fig.add_subplot(111, frameon=False)\n",
        "plt.tick_params(labelcolor='none', top=False, bottom=False, left=False, right=False)\n",
        "\n",
        "for idx, exp in enumerate(results.keys()):\n",
        "  e = results[exp]['epochs']\n",
        "  fid = results[exp]['fids']\n",
        "  inception_score = results[exp]['iss']\n",
        "  score = [s[0] for s in inception_score]\n",
        "\n",
        "  axs[0].plot(e,fid,'-o',label=exp)\n",
        "  axs[1].plot(e,score,'-o', label=exp)\n",
        "\n",
        "axs[0].set_ylabel('FID')\n",
        "axs[1].set_ylabel('Inception Score')\n",
        "\n",
        "plt.title('Scores vs Training Epoch')\n",
        "plt.xlabel(\"Epoch\")\n",
        "\n",
        "axs[0].legend()\n",
        "axs[1].legend()\n",
        "plt.show()"
      ],
      "execution_count": 19,
      "outputs": [
        {
          "output_type": "display_data",
          "data": {
            "text/plain": [
              "<Figure size 720x720 with 3 Axes>"
            ],
            "image/png": "[encoded data removed]"
          },
          "metadata": {
            "tags": [],
            "needs_background": "light"
          }
        }
      ]
    },
    {
      "cell_type": "code",
      "metadata": {
        "colab": {
          "base_uri": "https://localhost:8080/"
        },
        "id": "u4NbJlk0SEqZ",
        "outputId": "b6842584-7aa4-41b1-907d-d048fa3de33e"
      },
      "source": [
        "from tabulate import tabulate\n",
        "table = []\n",
        "for exp in results.keys():\n",
        "  inception_score = [s[0] for s in results[exp]['iss']]\n",
        "  table.append([exp,max(results[exp]['epochs']),results[exp]['epochs'][np.argmin(results[exp]['fids'])], min(results[exp]['fids']), results[exp]['epochs'][np.argmax(inception_score)], max(inception_score)])\n",
        "\n",
        "print(tabulate(table, headers=[\"Experiment\",\"Training Epochs\",\"Min FID Epoch\", \"Min FID\", \"Max IS Epoch\", \"Max IS\"]))"
      ],
      "execution_count": 20,
      "outputs": [
        {
          "output_type": "stream",
          "text": [
            "Experiment      Training Epochs    Min FID Epoch    Min FID    Max IS Epoch    Max IS\n",
            "------------  -----------------  ---------------  ---------  --------------  --------\n",
            "no_aug                      100               50    77.8442              50   6.01709\n",
            "flip_lr                      90               20    69.9796              50   6.48188\n",
            "full_aug                    171              137    40.784              162   7.3485\n",
            "co_training                  78               45    62.4213              36   6.29068\n"
          ],
          "name": "stdout"
        }
      ]
    },
    {
      "cell_type": "code",
      "metadata": {
        "id": "xJpG-6u1qkw-"
      },
      "source": [
        ""
      ],
      "execution_count": null,
      "outputs": []
    }
  ]
}