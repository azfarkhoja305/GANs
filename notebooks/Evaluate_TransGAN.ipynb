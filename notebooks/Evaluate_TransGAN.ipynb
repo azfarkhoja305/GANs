{
  "nbformat": 4,
  "nbformat_minor": 0,
  "metadata": {
    "accelerator": "GPU",
    "colab": {
      "name": "DC GAN-CIFAR.ipynb",
      "provenance": [],
      "collapsed_sections": [],
      "include_colab_link": true
    },
    "kernelspec": {
      "display_name": "Python 3",
      "name": "python3",
      "language": "python"
    },
    "widgets": {
      "application/vnd.jupyter.widget-state+json": {
        "58b3c9788d424e5f9f561fdb58fde87c": {
          "model_module": "@jupyter-widgets/controls",
          "model_name": "HBoxModel",
          "state": {
            "_dom_classes": [],
            "_model_module": "@jupyter-widgets/controls",
            "_model_module_version": "1.5.0",
            "_model_name": "HBoxModel",
            "_view_count": null,
            "_view_module": "@jupyter-widgets/controls",
            "_view_module_version": "1.5.0",
            "_view_name": "HBoxView",
            "box_style": "",
            "children": [
              "IPY_MODEL_206a0229906b4ec1be878e18e46d4b5c",
              "IPY_MODEL_9b39aa1623cb45349f5ceb3fece486c3",
              "IPY_MODEL_921c1c3e5e734b17aa57ddeafafddbe2"
            ],
            "layout": "IPY_MODEL_a8a4ca8711f64a42aefe105da383d3db"
          }
        },
        "206a0229906b4ec1be878e18e46d4b5c": {
          "model_module": "@jupyter-widgets/controls",
          "model_name": "HTMLModel",
          "state": {
            "_dom_classes": [],
            "_model_module": "@jupyter-widgets/controls",
            "_model_module_version": "1.5.0",
            "_model_name": "HTMLModel",
            "_view_count": null,
            "_view_module": "@jupyter-widgets/controls",
            "_view_module_version": "1.5.0",
            "_view_name": "HTMLView",
            "description": "",
            "description_tooltip": null,
            "layout": "IPY_MODEL_853283cd1dd940daaf77a4f1d313dcab",
            "placeholder": "​",
            "style": "IPY_MODEL_937e07a4d7d9466494b573cf6ef10891",
            "value": "generating images: 100%"
          }
        },
        "9b39aa1623cb45349f5ceb3fece486c3": {
          "model_module": "@jupyter-widgets/controls",
          "model_name": "FloatProgressModel",
          "state": {
            "_dom_classes": [],
            "_model_module": "@jupyter-widgets/controls",
            "_model_module_version": "1.5.0",
            "_model_name": "FloatProgressModel",
            "_view_count": null,
            "_view_module": "@jupyter-widgets/controls",
            "_view_module_version": "1.5.0",
            "_view_name": "ProgressView",
            "bar_style": "",
            "description": "",
            "description_tooltip": null,
            "layout": "IPY_MODEL_044640ecf71d4d4c99820c69d9494f54",
            "max": 157,
            "min": 0,
            "orientation": "horizontal",
            "style": "IPY_MODEL_1974ff0aa47c4b0fb1b8ce6918c31c71",
            "value": 157
          }
        },
        "921c1c3e5e734b17aa57ddeafafddbe2": {
          "model_module": "@jupyter-widgets/controls",
          "model_name": "HTMLModel",
          "state": {
            "_dom_classes": [],
            "_model_module": "@jupyter-widgets/controls",
            "_model_module_version": "1.5.0",
            "_model_name": "HTMLModel",
            "_view_count": null,
            "_view_module": "@jupyter-widgets/controls",
            "_view_module_version": "1.5.0",
            "_view_name": "HTMLView",
            "description": "",
            "description_tooltip": null,
            "layout": "IPY_MODEL_d21f0746503e4732acc1848961bddc33",
            "placeholder": "​",
            "style": "IPY_MODEL_86321a307cd144bba90f1fa063610394",
            "value": " 157/157 [00:26&lt;00:00,  5.51it/s]"
          }
        },
        "a8a4ca8711f64a42aefe105da383d3db": {
          "model_module": "@jupyter-widgets/base",
          "model_name": "LayoutModel",
          "state": {
            "_model_module": "@jupyter-widgets/base",
            "_model_module_version": "1.2.0",
            "_model_name": "LayoutModel",
            "_view_count": null,
            "_view_module": "@jupyter-widgets/base",
            "_view_module_version": "1.2.0",
            "_view_name": "LayoutView",
            "align_content": null,
            "align_items": null,
            "align_self": null,
            "border": null,
            "bottom": null,
            "display": null,
            "flex": null,
            "flex_flow": null,
            "grid_area": null,
            "grid_auto_columns": null,
            "grid_auto_flow": null,
            "grid_auto_rows": null,
            "grid_column": null,
            "grid_gap": null,
            "grid_row": null,
            "grid_template_areas": null,
            "grid_template_columns": null,
            "grid_template_rows": null,
            "height": null,
            "justify_content": null,
            "justify_items": null,
            "left": null,
            "margin": null,
            "max_height": null,
            "max_width": null,
            "min_height": null,
            "min_width": null,
            "object_fit": null,
            "object_position": null,
            "order": null,
            "overflow": null,
            "overflow_x": null,
            "overflow_y": null,
            "padding": null,
            "right": null,
            "top": null,
            "visibility": null,
            "width": null
          }
        },
        "853283cd1dd940daaf77a4f1d313dcab": {
          "model_module": "@jupyter-widgets/base",
          "model_name": "LayoutModel",
          "state": {
            "_model_module": "@jupyter-widgets/base",
            "_model_module_version": "1.2.0",
            "_model_name": "LayoutModel",
            "_view_count": null,
            "_view_module": "@jupyter-widgets/base",
            "_view_module_version": "1.2.0",
            "_view_name": "LayoutView",
            "align_content": null,
            "align_items": null,
            "align_self": null,
            "border": null,
            "bottom": null,
            "display": null,
            "flex": null,
            "flex_flow": null,
            "grid_area": null,
            "grid_auto_columns": null,
            "grid_auto_flow": null,
            "grid_auto_rows": null,
            "grid_column": null,
            "grid_gap": null,
            "grid_row": null,
            "grid_template_areas": null,
            "grid_template_columns": null,
            "grid_template_rows": null,
            "height": null,
            "justify_content": null,
            "justify_items": null,
            "left": null,
            "margin": null,
            "max_height": null,
            "max_width": null,
            "min_height": null,
            "min_width": null,
            "object_fit": null,
            "object_position": null,
            "order": null,
            "overflow": null,
            "overflow_x": null,
            "overflow_y": null,
            "padding": null,
            "right": null,
            "top": null,
            "visibility": null,
            "width": null
          }
        },
        "937e07a4d7d9466494b573cf6ef10891": {
          "model_module": "@jupyter-widgets/controls",
          "model_name": "DescriptionStyleModel",
          "state": {
            "_model_module": "@jupyter-widgets/controls",
            "_model_module_version": "1.5.0",
            "_model_name": "DescriptionStyleModel",
            "_view_count": null,
            "_view_module": "@jupyter-widgets/base",
            "_view_module_version": "1.2.0",
            "_view_name": "StyleView",
            "description_width": ""
          }
        },
        "044640ecf71d4d4c99820c69d9494f54": {
          "model_module": "@jupyter-widgets/base",
          "model_name": "LayoutModel",
          "state": {
            "_model_module": "@jupyter-widgets/base",
            "_model_module_version": "1.2.0",
            "_model_name": "LayoutModel",
            "_view_count": null,
            "_view_module": "@jupyter-widgets/base",
            "_view_module_version": "1.2.0",
            "_view_name": "LayoutView",
            "align_content": null,
            "align_items": null,
            "align_self": null,
            "border": null,
            "bottom": null,
            "display": null,
            "flex": null,
            "flex_flow": null,
            "grid_area": null,
            "grid_auto_columns": null,
            "grid_auto_flow": null,
            "grid_auto_rows": null,
            "grid_column": null,
            "grid_gap": null,
            "grid_row": null,
            "grid_template_areas": null,
            "grid_template_columns": null,
            "grid_template_rows": null,
            "height": null,
            "justify_content": null,
            "justify_items": null,
            "left": null,
            "margin": null,
            "max_height": null,
            "max_width": null,
            "min_height": null,
            "min_width": null,
            "object_fit": null,
            "object_position": null,
            "order": null,
            "overflow": null,
            "overflow_x": null,
            "overflow_y": null,
            "padding": null,
            "right": null,
            "top": null,
            "visibility": null,
            "width": null
          }
        },
        "1974ff0aa47c4b0fb1b8ce6918c31c71": {
          "model_module": "@jupyter-widgets/controls",
          "model_name": "ProgressStyleModel",
          "state": {
            "_model_module": "@jupyter-widgets/controls",
            "_model_module_version": "1.5.0",
            "_model_name": "ProgressStyleModel",
            "_view_count": null,
            "_view_module": "@jupyter-widgets/base",
            "_view_module_version": "1.2.0",
            "_view_name": "StyleView",
            "bar_color": null,
            "description_width": ""
          }
        },
        "d21f0746503e4732acc1848961bddc33": {
          "model_module": "@jupyter-widgets/base",
          "model_name": "LayoutModel",
          "state": {
            "_model_module": "@jupyter-widgets/base",
            "_model_module_version": "1.2.0",
            "_model_name": "LayoutModel",
            "_view_count": null,
            "_view_module": "@jupyter-widgets/base",
            "_view_module_version": "1.2.0",
            "_view_name": "LayoutView",
            "align_content": null,
            "align_items": null,
            "align_self": null,
            "border": null,
            "bottom": null,
            "display": null,
            "flex": null,
            "flex_flow": null,
            "grid_area": null,
            "grid_auto_columns": null,
            "grid_auto_flow": null,
            "grid_auto_rows": null,
            "grid_column": null,
            "grid_gap": null,
            "grid_row": null,
            "grid_template_areas": null,
            "grid_template_columns": null,
            "grid_template_rows": null,
            "height": null,
            "justify_content": null,
            "justify_items": null,
            "left": null,
            "margin": null,
            "max_height": null,
            "max_width": null,
            "min_height": null,
            "min_width": null,
            "object_fit": null,
            "object_position": null,
            "order": null,
            "overflow": null,
            "overflow_x": null,
            "overflow_y": null,
            "padding": null,
            "right": null,
            "top": null,
            "visibility": null,
            "width": null
          }
        },
        "86321a307cd144bba90f1fa063610394": {
          "model_module": "@jupyter-widgets/controls",
          "model_name": "DescriptionStyleModel",
          "state": {
            "_model_module": "@jupyter-widgets/controls",
            "_model_module_version": "1.5.0",
            "_model_name": "DescriptionStyleModel",
            "_view_count": null,
            "_view_module": "@jupyter-widgets/base",
            "_view_module_version": "1.2.0",
            "_view_name": "StyleView",
            "description_width": ""
          }
        },
        "ac58cbd714a047989ccdb38be1eb2a98": {
          "model_module": "@jupyter-widgets/controls",
          "model_name": "HBoxModel",
          "state": {
            "_dom_classes": [],
            "_model_module": "@jupyter-widgets/controls",
            "_model_module_version": "1.5.0",
            "_model_name": "HBoxModel",
            "_view_count": null,
            "_view_module": "@jupyter-widgets/controls",
            "_view_module_version": "1.5.0",
            "_view_name": "HBoxView",
            "box_style": "",
            "children": [
              "IPY_MODEL_d40b9473eeed4c2598bad79198dd478d",
              "IPY_MODEL_3e5f6b1fe30140a68b923e0b103eaa8a",
              "IPY_MODEL_34428fa4593c4c3c8db1ee418fea6399"
            ],
            "layout": "IPY_MODEL_5f6ff36acbcd47999d18beaaf5a717ac"
          }
        },
        "d40b9473eeed4c2598bad79198dd478d": {
          "model_module": "@jupyter-widgets/controls",
          "model_name": "HTMLModel",
          "state": {
            "_dom_classes": [],
            "_model_module": "@jupyter-widgets/controls",
            "_model_module_version": "1.5.0",
            "_model_name": "HTMLModel",
            "_view_count": null,
            "_view_module": "@jupyter-widgets/controls",
            "_view_module_version": "1.5.0",
            "_view_name": "HTMLView",
            "description": "",
            "description_tooltip": null,
            "layout": "IPY_MODEL_f01a3dfaa70b4144a1535b4a1726884f",
            "placeholder": "​",
            "style": "IPY_MODEL_29bcb7d2521b4c59b92d2d336b9226a5",
            "value": "inception_score_and_fid: 100%"
          }
        },
        "3e5f6b1fe30140a68b923e0b103eaa8a": {
          "model_module": "@jupyter-widgets/controls",
          "model_name": "FloatProgressModel",
          "state": {
            "_dom_classes": [],
            "_model_module": "@jupyter-widgets/controls",
            "_model_module_version": "1.5.0",
            "_model_name": "FloatProgressModel",
            "_view_count": null,
            "_view_module": "@jupyter-widgets/controls",
            "_view_module_version": "1.5.0",
            "_view_name": "ProgressView",
            "bar_style": "",
            "description": "",
            "description_tooltip": null,
            "layout": "IPY_MODEL_207a6fe1417744ceb09f676fe73d1e19",
            "max": 10000,
            "min": 0,
            "orientation": "horizontal",
            "style": "IPY_MODEL_7fcc4ac6358843fc9bb33ff71cb2d922",
            "value": 10000
          }
        },
        "34428fa4593c4c3c8db1ee418fea6399": {
          "model_module": "@jupyter-widgets/controls",
          "model_name": "HTMLModel",
          "state": {
            "_dom_classes": [],
            "_model_module": "@jupyter-widgets/controls",
            "_model_module_version": "1.5.0",
            "_model_name": "HTMLModel",
            "_view_count": null,
            "_view_module": "@jupyter-widgets/controls",
            "_view_module_version": "1.5.0",
            "_view_name": "HTMLView",
            "description": "",
            "description_tooltip": null,
            "layout": "IPY_MODEL_e081a24dfc3c456c9de30941193407a4",
            "placeholder": "​",
            "style": "IPY_MODEL_f0574dbcebb941b093e7f1c000af3e8e",
            "value": " 10000/10000 [01:12&lt;00:00, 42.65it/s]"
          }
        },
        "5f6ff36acbcd47999d18beaaf5a717ac": {
          "model_module": "@jupyter-widgets/base",
          "model_name": "LayoutModel",
          "state": {
            "_model_module": "@jupyter-widgets/base",
            "_model_module_version": "1.2.0",
            "_model_name": "LayoutModel",
            "_view_count": null,
            "_view_module": "@jupyter-widgets/base",
            "_view_module_version": "1.2.0",
            "_view_name": "LayoutView",
            "align_content": null,
            "align_items": null,
            "align_self": null,
            "border": null,
            "bottom": null,
            "display": "inline-flex",
            "flex": null,
            "flex_flow": "row wrap",
            "grid_area": null,
            "grid_auto_columns": null,
            "grid_auto_flow": null,
            "grid_auto_rows": null,
            "grid_column": null,
            "grid_gap": null,
            "grid_row": null,
            "grid_template_areas": null,
            "grid_template_columns": null,
            "grid_template_rows": null,
            "height": null,
            "justify_content": null,
            "justify_items": null,
            "left": null,
            "margin": null,
            "max_height": null,
            "max_width": null,
            "min_height": null,
            "min_width": null,
            "object_fit": null,
            "object_position": null,
            "order": null,
            "overflow": null,
            "overflow_x": null,
            "overflow_y": null,
            "padding": null,
            "right": null,
            "top": null,
            "visibility": null,
            "width": "100%"
          }
        },
        "f01a3dfaa70b4144a1535b4a1726884f": {
          "model_module": "@jupyter-widgets/base",
          "model_name": "LayoutModel",
          "state": {
            "_model_module": "@jupyter-widgets/base",
            "_model_module_version": "1.2.0",
            "_model_name": "LayoutModel",
            "_view_count": null,
            "_view_module": "@jupyter-widgets/base",
            "_view_module_version": "1.2.0",
            "_view_name": "LayoutView",
            "align_content": null,
            "align_items": null,
            "align_self": null,
            "border": null,
            "bottom": null,
            "display": null,
            "flex": null,
            "flex_flow": null,
            "grid_area": null,
            "grid_auto_columns": null,
            "grid_auto_flow": null,
            "grid_auto_rows": null,
            "grid_column": null,
            "grid_gap": null,
            "grid_row": null,
            "grid_template_areas": null,
            "grid_template_columns": null,
            "grid_template_rows": null,
            "height": null,
            "justify_content": null,
            "justify_items": null,
            "left": null,
            "margin": null,
            "max_height": null,
            "max_width": null,
            "min_height": null,
            "min_width": null,
            "object_fit": null,
            "object_position": null,
            "order": null,
            "overflow": null,
            "overflow_x": null,
            "overflow_y": null,
            "padding": null,
            "right": null,
            "top": null,
            "visibility": null,
            "width": null
          }
        },
        "29bcb7d2521b4c59b92d2d336b9226a5": {
          "model_module": "@jupyter-widgets/controls",
          "model_name": "DescriptionStyleModel",
          "state": {
            "_model_module": "@jupyter-widgets/controls",
            "_model_module_version": "1.5.0",
            "_model_name": "DescriptionStyleModel",
            "_view_count": null,
            "_view_module": "@jupyter-widgets/base",
            "_view_module_version": "1.2.0",
            "_view_name": "StyleView",
            "description_width": ""
          }
        },
        "207a6fe1417744ceb09f676fe73d1e19": {
          "model_module": "@jupyter-widgets/base",
          "model_name": "LayoutModel",
          "state": {
            "_model_module": "@jupyter-widgets/base",
            "_model_module_version": "1.2.0",
            "_model_name": "LayoutModel",
            "_view_count": null,
            "_view_module": "@jupyter-widgets/base",
            "_view_module_version": "1.2.0",
            "_view_name": "LayoutView",
            "align_content": null,
            "align_items": null,
            "align_self": null,
            "border": null,
            "bottom": null,
            "display": null,
            "flex": "2",
            "flex_flow": null,
            "grid_area": null,
            "grid_auto_columns": null,
            "grid_auto_flow": null,
            "grid_auto_rows": null,
            "grid_column": null,
            "grid_gap": null,
            "grid_row": null,
            "grid_template_areas": null,
            "grid_template_columns": null,
            "grid_template_rows": null,
            "height": null,
            "justify_content": null,
            "justify_items": null,
            "left": null,
            "margin": null,
            "max_height": null,
            "max_width": null,
            "min_height": null,
            "min_width": null,
            "object_fit": null,
            "object_position": null,
            "order": null,
            "overflow": null,
            "overflow_x": null,
            "overflow_y": null,
            "padding": null,
            "right": null,
            "top": null,
            "visibility": null,
            "width": null
          }
        },
        "7fcc4ac6358843fc9bb33ff71cb2d922": {
          "model_module": "@jupyter-widgets/controls",
          "model_name": "ProgressStyleModel",
          "state": {
            "_model_module": "@jupyter-widgets/controls",
            "_model_module_version": "1.5.0",
            "_model_name": "ProgressStyleModel",
            "_view_count": null,
            "_view_module": "@jupyter-widgets/base",
            "_view_module_version": "1.2.0",
            "_view_name": "StyleView",
            "bar_color": null,
            "description_width": ""
          }
        },
        "e081a24dfc3c456c9de30941193407a4": {
          "model_module": "@jupyter-widgets/base",
          "model_name": "LayoutModel",
          "state": {
            "_model_module": "@jupyter-widgets/base",
            "_model_module_version": "1.2.0",
            "_model_name": "LayoutModel",
            "_view_count": null,
            "_view_module": "@jupyter-widgets/base",
            "_view_module_version": "1.2.0",
            "_view_name": "LayoutView",
            "align_content": null,
            "align_items": null,
            "align_self": null,
            "border": null,
            "bottom": null,
            "display": null,
            "flex": null,
            "flex_flow": null,
            "grid_area": null,
            "grid_auto_columns": null,
            "grid_auto_flow": null,
            "grid_auto_rows": null,
            "grid_column": null,
            "grid_gap": null,
            "grid_row": null,
            "grid_template_areas": null,
            "grid_template_columns": null,
            "grid_template_rows": null,
            "height": null,
            "justify_content": null,
            "justify_items": null,
            "left": null,
            "margin": null,
            "max_height": null,
            "max_width": null,
            "min_height": null,
            "min_width": null,
            "object_fit": null,
            "object_position": null,
            "order": null,
            "overflow": null,
            "overflow_x": null,
            "overflow_y": null,
            "padding": null,
            "right": null,
            "top": null,
            "visibility": null,
            "width": null
          }
        },
        "f0574dbcebb941b093e7f1c000af3e8e": {
          "model_module": "@jupyter-widgets/controls",
          "model_name": "DescriptionStyleModel",
          "state": {
            "_model_module": "@jupyter-widgets/controls",
            "_model_module_version": "1.5.0",
            "_model_name": "DescriptionStyleModel",
            "_view_count": null,
            "_view_module": "@jupyter-widgets/base",
            "_view_module_version": "1.2.0",
            "_view_name": "StyleView",
            "description_width": ""
          }
        }
      }
    }
  },
  "cells": [
    {
      "cell_type": "markdown",
      "metadata": {
        "id": "view-in-github",
        "colab_type": "text"
      },
      "source": [
        "<a href=\"https://colab.research.google.com/github/azfarkhoja305/GANs/blob/main/notebooks/Evaluate_TransGAN.ipynb\" target=\"_parent\"><img src=\"https://colab.research.google.com/assets/colab-badge.svg\" alt=\"Open In Colab\"/></a>"
      ]
    },
    {
      "cell_type": "markdown",
      "metadata": {
        "id": "0SWerrtj1YvW"
      },
      "source": [
        "# Initialization"
      ]
    },
    {
      "cell_type": "code",
      "metadata": {
        "id": "tt9aRbqXELop",
        "colab": {
          "base_uri": "https://localhost:8080/"
        },
        "outputId": "1eef7e4c-f215-4139-9cd3-875e44153144"
      },
      "source": [
        "# Check GPU\n",
        "!nvidia-smi"
      ],
      "execution_count": 18,
      "outputs": [
        {
          "output_type": "stream",
          "text": [
            "Tue Apr 20 10:09:59 2021       \n",
            "+-----------------------------------------------------------------------------+\n",
            "| NVIDIA-SMI 461.92       Driver Version: 461.92       CUDA Version: 11.2     |\n",
            "|-------------------------------+----------------------+----------------------+\n",
            "| GPU  Name            TCC/WDDM | Bus-Id        Disp.A | Volatile Uncorr. ECC |\n",
            "| Fan  Temp  Perf  Pwr:Usage/Cap|         Memory-Usage | GPU-Util  Compute M. |\n",
            "|                               |                      |               MIG M. |\n",
            "|===============================+======================+======================|\n",
            "|   0  GeForce GTX 106... WDDM  | 00000000:07:00.0  On |                  N/A |\n",
            "|  0%   42C    P2    25W / 120W |   5950MiB /  6144MiB |      3%      Default |\n",
            "|                               |                      |                  N/A |\n",
            "+-------------------------------+----------------------+----------------------+\n",
            "                                                                               \n",
            "+-----------------------------------------------------------------------------+\n",
            "| Processes:                                                                  |\n",
            "|  GPU   GI   CI        PID   Type   Process name                  GPU Memory |\n",
            "|        ID   ID                                                   Usage      |\n",
            "|=============================================================================|\n",
            "|    0   N/A  N/A      1360    C+G   Insufficient Permissions        N/A      |\n",
            "|    0   N/A  N/A      1840    C+G   ...in7x64\\steamwebhelper.exe    N/A      |\n",
            "|    0   N/A  N/A      3256      C   ...s\\AP\\anaconda3\\python.exe    N/A      |\n",
            "|    0   N/A  N/A      5484    C+G   ...5n1h2txyewy\\SearchApp.exe    N/A      |\n",
            "|    0   N/A  N/A      5496    C+G   C:\\Windows\\explorer.exe         N/A      |\n",
            "|    0   N/A  N/A      5784    C+G   ...me\\Application\\chrome.exe    N/A      |\n",
            "|    0   N/A  N/A      6724    C+G   ...artMenuExperienceHost.exe    N/A      |\n",
            "|    0   N/A  N/A      7648    C+G   ...ekyb3d8bbwe\\YourPhone.exe    N/A      |\n",
            "|    0   N/A  N/A      7992    C+G   ...nputApp\\TextInputHost.exe    N/A      |\n",
            "|    0   N/A  N/A      8128    C+G   ...bbwe\\Microsoft.Photos.exe    N/A      |\n",
            "|    0   N/A  N/A      8608    C+G   ...cw5n1h2txyewy\\LockApp.exe    N/A      |\n",
            "|    0   N/A  N/A      9668    C+G   ...b3d8bbwe\\WinStore.App.exe    N/A      |\n",
            "|    0   N/A  N/A     10416    C+G   ...kyb3d8bbwe\\Calculator.exe    N/A      |\n",
            "|    0   N/A  N/A     10508    C+G   ...t\\Teams\\current\\Teams.exe    N/A      |\n",
            "|    0   N/A  N/A     11268    C+G   ...y\\ShellExperienceHost.exe    N/A      |\n",
            "|    0   N/A  N/A     12140    C+G   ...lack\\app-4.15.0\\slack.exe    N/A      |\n",
            "|    0   N/A  N/A     13420    C+G   ...\\app-1.0.9001\\Discord.exe    N/A      |\n",
            "|    0   N/A  N/A     13456    C+G   ...s\\Messenger\\Messenger.exe    N/A      |\n",
            "|    0   N/A  N/A     15880    C+G   ...t\\Teams\\current\\Teams.exe    N/A      |\n",
            "|    0   N/A  N/A     16712    C+G   ...icrosoft VS Code\\Code.exe    N/A      |\n",
            "|    0   N/A  N/A     16880    C+G   ...lPanel\\SystemSettings.exe    N/A      |\n",
            "|    0   N/A  N/A     18200    C+G   ...rtualDesktop.Streamer.exe    N/A      |\n",
            "|    0   N/A  N/A     20652    C+G   ...grams\\todoist\\Todoist.exe    N/A      |\n",
            "|    0   N/A  N/A     21376    C+G   ...root\\Office16\\ONENOTE.EXE    N/A      |\n",
            "+-----------------------------------------------------------------------------+\n"
          ],
          "name": "stdout"
        }
      ]
    },
    {
      "cell_type": "code",
      "metadata": {
        "id": "snw374aaTnnA"
      },
      "source": [
        "import os\n",
        "import sys\n",
        "import pdb\n",
        "import numpy as np\n",
        "import matplotlib.pyplot as plt\n",
        "from pathlib import Path\n",
        "from matplotlib import animation, rc\n",
        "from tqdm.auto import tqdm\n",
        "\n",
        "import torch\n",
        "import torch.nn as nn\n",
        "import torch.nn.functional as F\n",
        "import torch.optim as optim\n",
        "import torchvision.datasets as datasets\n",
        "import torchvision.transforms as transforms\n",
        "import torchvision.utils as vutils\n",
        "\n",
        "# from torchsummary import summary\n",
        "from types import SimpleNamespace\n",
        "import json\n",
        "from metrics.torch_is_fid_score import is_fid_from_generator"
      ],
      "execution_count": 19,
      "outputs": []
    },
    {
      "cell_type": "code",
      "metadata": {
        "id": "fcsjaSKk1_J-",
        "colab": {
          "base_uri": "https://localhost:8080/"
        },
        "outputId": "810ab5ff-d55d-4717-8356-659b45c6b9c3"
      },
      "source": [
        "from models.transformer_generator import TGenerator\n",
        "from models.ViT_discriminator import Discriminator\n",
        "from utils.utils import check_gpu, display_images, set_seed\n",
        "from utils.checkpoint import Checkpoint\n",
        "from utils.loss import wgangp_eps_loss\n",
        "from utils.datasets import ImageDataset\n",
        "%load_ext autoreload\n",
        "%autoreload 2"
      ],
      "execution_count": 20,
      "outputs": [
        {
          "output_type": "stream",
          "text": [
            "The autoreload extension is already loaded. To reload it, use:\n",
            "  %reload_ext autoreload\n"
          ],
          "name": "stdout"
        }
      ]
    },
    {
      "cell_type": "code",
      "metadata": {
        "id": "hjctAwsi1aIt"
      },
      "source": [
        "gdrive = Path('C:\\\\GANs\\\\')"
      ],
      "execution_count": 21,
      "outputs": []
    },
    {
      "cell_type": "code",
      "metadata": {
        "colab": {
          "base_uri": "https://localhost:8080/"
        },
        "id": "9vUBiEMHoI7L",
        "outputId": "a1e6b238-6110-4597-a021-9ed6a4aab7c1"
      },
      "source": [
        "# seed notebook\n",
        "set_seed(seed=123)\n",
        "device = check_gpu()\n",
        "print(f'Using device: {device}')"
      ],
      "execution_count": 22,
      "outputs": [
        {
          "output_type": "stream",
          "text": [
            "Using device: cuda\n"
          ],
          "name": "stdout"
        }
      ]
    },
    {
      "cell_type": "code",
      "metadata": {
        "id": "SJw1ayYHPsPS",
        "colab": {
          "base_uri": "https://localhost:8080/"
        },
        "outputId": "2de3f333-aa80-46cb-d457-be3c7bd19cc5"
      },
      "source": [
        "!set PYTHONPATH=%PYTHONPATH%;C:/GitHub/GANs && python ./scripts/create_fid_stats.py -d cifar_10 -t False"
      ],
      "execution_count": 23,
      "outputs": [
        {
          "output_type": "stream",
          "text": [
            "Namespace(batch_size=256, dataset='cifar_10', save='fid_stats', train='False')\n",
            "Files already downloaded and verified\n",
            "fid_stats\\cifar_10_valid_fid_stats.npz exists. Exiting !!!\n"
          ],
          "name": "stdout"
        }
      ]
    },
    {
      "cell_type": "markdown",
      "metadata": {
        "id": "_klsaWZY1Vbd"
      },
      "source": [
        "# Inference"
      ]
    },
    {
      "cell_type": "code",
      "metadata": {
        "id": "OAnOtwJII081"
      },
      "source": [
        "gen_batch_sz = 64\n",
        "dis_batch_sz = 32\n",
        "latent_dims = 1024\n",
        "lr, beta1, beta2 = 1e-4, 0, 0.999"
      ],
      "execution_count": 24,
      "outputs": []
    },
    {
      "cell_type": "code",
      "metadata": {
        "colab": {
          "base_uri": "https://localhost:8080/"
        },
        "id": "lRqYfP8P5kA7",
        "outputId": "6ff295df-049d-4f51-e6ce-1b08c878c6fb"
      },
      "source": [
        "# Add Horizontal Flip by default\n",
        "tfms = [transforms.RandomHorizontalFlip()]\n",
        "dataset =  ImageDataset('cifar_10', batch_sz=dis_batch_sz, tfms=tfms, \n",
        "                        num_workers=2, drop_last=True)\n",
        "# display_images(dataset.train_loader)"
      ],
      "execution_count": 25,
      "outputs": [
        {
          "output_type": "stream",
          "text": [
            "Files already downloaded and verified\n"
          ],
          "name": "stdout"
        }
      ]
    },
    {
      "cell_type": "code",
      "metadata": {
        "id": "0xMtpSUcFao9"
      },
      "source": [
        "Gen = TGenerator(latent_dims=latent_dims).to(device)\n",
        "fixed_z = torch.randn(gen_batch_sz, latent_dims, device=device)\n",
        "# summary(Gen,(latent_dims,))"
      ],
      "execution_count": 26,
      "outputs": []
    },
    {
      "cell_type": "code",
      "metadata": {
        "id": "oSl65ocvm4db"
      },
      "source": [
        "args = SimpleNamespace(**{\"d_depth\": 7, \"df_dim\": 384, \"img_size\": 32, \"patch_size\": 8})\n",
        "Dis = Discriminator(args).to(device)\n",
        "# summary(Dis,(3,32,32,))"
      ],
      "execution_count": 27,
      "outputs": []
    },
    {
      "cell_type": "code",
      "metadata": {
        "id": "rfyd9KYkRr0O"
      },
      "source": [
        "optG = optim.AdamW(Gen.parameters(), lr=lr, betas=(beta1, beta2))\n",
        "optD = optim.AdamW(Dis.parameters(), lr=lr, betas=(beta1, beta2))"
      ],
      "execution_count": 28,
      "outputs": []
    },
    {
      "cell_type": "code",
      "metadata": {
        "id": "l-feVFNTGI8X"
      },
      "source": [
        "with open('results.json') as fp:\n",
        "  results = json.load(fp)"
      ],
      "execution_count": 29,
      "outputs": []
    },
    {
      "cell_type": "code",
      "metadata": {
        "id": "A9St140O0YjM",
        "colab": {
          "base_uri": "https://localhost:8080/",
          "height": 51,
          "referenced_widgets": [
            "58b3c9788d424e5f9f561fdb58fde87c",
            "206a0229906b4ec1be878e18e46d4b5c",
            "9b39aa1623cb45349f5ceb3fece486c3",
            "921c1c3e5e734b17aa57ddeafafddbe2",
            "a8a4ca8711f64a42aefe105da383d3db",
            "853283cd1dd940daaf77a4f1d313dcab",
            "937e07a4d7d9466494b573cf6ef10891",
            "044640ecf71d4d4c99820c69d9494f54",
            "1974ff0aa47c4b0fb1b8ce6918c31c71",
            "d21f0746503e4732acc1848961bddc33",
            "86321a307cd144bba90f1fa063610394",
            "ac58cbd714a047989ccdb38be1eb2a98",
            "d40b9473eeed4c2598bad79198dd478d",
            "3e5f6b1fe30140a68b923e0b103eaa8a",
            "34428fa4593c4c3c8db1ee418fea6399",
            "5f6ff36acbcd47999d18beaaf5a717ac",
            "f01a3dfaa70b4144a1535b4a1726884f",
            "29bcb7d2521b4c59b92d2d336b9226a5",
            "207a6fe1417744ceb09f676fe73d1e19",
            "7fcc4ac6358843fc9bb33ff71cb2d922",
            "e081a24dfc3c456c9de30941193407a4",
            "f0574dbcebb941b093e7f1c000af3e8e"
          ]
        },
        "outputId": "2afc9323-05b2-493f-e653-cc094b566e8a"
      },
      "source": [
        "stat_path = Path('fid_stats/cifar_10_valid_fid_stats.npz')\n",
        "experiments = ['no_aug', 'flip_lr', 'full_aug', 'co_training', \"attn_init\"]\n",
        "\n",
        "for exp in experiments:\n",
        "  ckp_folder = gdrive/exp\n",
        "  for filename in os.listdir(ckp_folder):\n",
        "      if exp not in results:\n",
        "          results[exp] = {'epochs':[],'iss':[],'fids':[]}\n",
        "      epoch = int(filename[:-4].split('_')[-1])\n",
        "      if epoch not in results[exp]['epochs']:\n",
        "      \n",
        "          Gen, Dis, optG, optD, start_epoch, old_logs = \\\n",
        "              Checkpoint.load_checkpoint(ckp_folder/filename, Gen, Dis, optG, optD)\n",
        "          assert start_epoch > 0\n",
        "          \n",
        "          inception_score, fid = is_fid_from_generator(generator=Gen,\n",
        "                                                  latent_dims=latent_dims,\n",
        "                                                  num_imgs=10000,\n",
        "                                                  batch_sz=64,\n",
        "                                                  fid_stat_path = stat_path)\n",
        "          print(fid)\n",
        "          results[exp]['iss'].append(inception_score)\n",
        "          results[exp]['fids'].append(fid)\n",
        "          results[exp]['epochs'].append(epoch)\n"
      ],
      "execution_count": 34,
      "outputs": [
        {
          "output_type": "stream",
          "text": [
            "=> Loading checkpoint: C:\\GANs\\attn_init\\GanModel_242.pth\n"
          ],
          "name": "stdout"
        },
        {
          "output_type": "display_data",
          "data": {
            "text/plain": [
              "HBox(children=(HTML(value='generating images'), FloatProgress(value=0.0, max=157.0), HTML(value='')))"
            ],
            "application/vnd.jupyter.widget-view+json": {
              "version_major": 2,
              "version_minor": 0,
              "model_id": "58b3c9788d424e5f9f561fdb58fde87c"
            }
          },
          "metadata": {
            "tags": []
          }
        },
        {
          "output_type": "display_data",
          "data": {
            "text/plain": [
              "HBox(children=(HTML(value='inception_score_and_fid'), FloatProgress(value=0.0, layout=Layout(flex='2'), max=10…"
            ],
            "application/vnd.jupyter.widget-view+json": {
              "version_major": 2,
              "version_minor": 0,
              "model_id": "ac58cbd714a047989ccdb38be1eb2a98"
            }
          },
          "metadata": {
            "tags": []
          }
        },
        {
          "output_type": "stream",
          "text": [
            "36.14434814453125\n"
          ],
          "name": "stdout"
        }
      ]
    },
    {
      "cell_type": "code",
      "metadata": {
        "id": "Ct-D_yEhGQV_"
      },
      "source": [
        "with open('results.json', 'w') as fp:\n",
        "  json.dump(results, fp, indent=4, sort_keys=True)"
      ],
      "execution_count": 35,
      "outputs": []
    },
    {
      "cell_type": "markdown",
      "metadata": {
        "id": "mWLxUnXX1lGd"
      },
      "source": [
        "# Analysis"
      ]
    },
    {
      "cell_type": "code",
      "metadata": {
        "colab": {
          "base_uri": "https://localhost:8080/",
          "height": 621
        },
        "id": "0n6lbjeLEL38",
        "outputId": "a7be4315-b9f1-4ca6-8cbf-98636a109f24"
      },
      "source": [
        "fig, axs = plt.subplots(2,1,figsize=(10,10))\n",
        "fig.add_subplot(111, frameon=False)\n",
        "plt.tick_params(labelcolor='none', top=False, bottom=False, left=False, right=False)\n",
        "\n",
        "for idx, exp in enumerate(results.keys()):\n",
        "  e = results[exp]['epochs']\n",
        "  fid = results[exp]['fids']\n",
        "  inception_score = results[exp]['iss']\n",
        "  score = [s[0] for s in inception_score]\n",
        "\n",
        "  axs[0].plot(e,fid,'-o',label=exp)\n",
        "  axs[1].plot(e,score,'-o', label=exp)\n",
        "\n",
        "axs[0].set_ylabel('FID')\n",
        "axs[1].set_ylabel('Inception Score')\n",
        "\n",
        "plt.title('Scores vs Training Epoch')\n",
        "plt.xlabel(\"Epoch\")\n",
        "\n",
        "axs[0].legend()\n",
        "axs[1].legend()\n",
        "plt.show()"
      ],
      "execution_count": 36,
      "outputs": [
        {
          "output_type": "display_data",
          "data": {
            "text/plain": [
              "<Figure size 720x720 with 3 Axes>"
            ],
            "image/png": "[encoded data removed]"
          },
          "metadata": {
            "tags": [],
            "needs_background": "light"
          }
        }
      ]
    },
    {
      "cell_type": "code",
      "metadata": {
        "colab": {
          "base_uri": "https://localhost:8080/"
        },
        "id": "u4NbJlk0SEqZ",
        "outputId": "86ca2fbe-ba3b-48b9-f8cd-9691acbe34de"
      },
      "source": [
        "from tabulate import tabulate\n",
        "table = []\n",
        "for exp in results.keys():\n",
        "  inception_score = [s[0] for s in results[exp]['iss']]\n",
        "  table.append([exp,max(results[exp]['epochs']),results[exp]['epochs'][np.nanargmin(results[exp]['fids'])], min(results[exp]['fids']), results[exp]['epochs'][np.nanargmax(inception_score)], max(inception_score)])\n",
        "\n",
        "print(tabulate(table, headers=[\"Experiment\",\"Training Epochs\",\"Min FID Epoch\", \"Min FID\", \"Max IS Epoch\", \"Max IS\"]))"
      ],
      "execution_count": 37,
      "outputs": [
        {
          "output_type": "stream",
          "text": [
            "Experiment      Training Epochs    Min FID Epoch    Min FID    Max IS Epoch    Max IS\n",
            "------------  -----------------  ---------------  ---------  --------------  --------\n",
            "attn_init                   242              202    28.7528             242   8.08049\n",
            "co_training                 185              160    36.1584             155   7.6132\n",
            "flip_lr                      90               20    69.9796              50   6.48188\n",
            "full_aug                    171              137    40.784              162   7.3485\n",
            "no_aug                      100               20    77.8442              50   6.01709\n"
          ],
          "name": "stdout"
        }
      ]
    },
    {
      "cell_type": "code",
      "metadata": {
        "id": "vm14tWrK1NgV"
      },
      "source": [
        ""
      ],
      "execution_count": 33,
      "outputs": []
    }
  ]
}