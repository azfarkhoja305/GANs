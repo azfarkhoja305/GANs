{
  "nbformat": 4,
  "nbformat_minor": 0,
  "metadata": {
    "colab": {
      "name": "Checkpointing.ipynb",
      "provenance": [],
      "collapsed_sections": [],
      "include_colab_link": true
    },
    "kernelspec": {
      "name": "python3",
      "display_name": "Python 3"
    },
    "language_info": {
      "name": "python"
    }
  },
  "cells": [
    {
      "cell_type": "markdown",
      "metadata": {
        "id": "view-in-github",
        "colab_type": "text"
      },
      "source": [
        "<a href=\"https://colab.research.google.com/github/azfarkhoja305/GANs/blob/checkpoint/notebooks/Checkpointing.ipynb\" target=\"_parent\"><img src=\"https://colab.research.google.com/assets/colab-badge.svg\" alt=\"Open In Colab\"/></a>"
      ]
    },
    {
      "cell_type": "markdown",
      "metadata": {
        "id": "sMm3ADuPN7W3"
      },
      "source": [
        "## Created this notebook for colab. \n",
        "Will require chnages if run locally"
      ]
    },
    {
      "cell_type": "code",
      "metadata": {
        "id": "dbuHjgULOF3W",
        "outputId": "b1de9ca4-ae8d-4ab3-a9e5-eb0ffaae4265",
        "colab": {
          "base_uri": "https://localhost:8080/"
        }
      },
      "source": [
        "from google.colab import drive\n",
        "drive.mount('/content/drive')"
      ],
      "execution_count": 1,
      "outputs": [
        {
          "output_type": "stream",
          "text": [
            "Mounted at /content/drive\n"
          ],
          "name": "stdout"
        }
      ]
    },
    {
      "cell_type": "code",
      "metadata": {
        "id": "cSPym49AaZM4"
      },
      "source": [
        "from pathlib import Path\n",
        "import pdb\n",
        "import sys\n",
        "import re\n",
        "\n",
        "Path.ls = lambda x: list(x.iterdir())"
      ],
      "execution_count": 2,
      "outputs": []
    },
    {
      "cell_type": "code",
      "metadata": {
        "id": "zduq4XepadbM"
      },
      "source": [
        "gdrive = Path('drive/MyDrive')"
      ],
      "execution_count": 3,
      "outputs": []
    },
    {
      "cell_type": "code",
      "metadata": {
        "id": "f7WQI-LzZuqO"
      },
      "source": [
        "import matplotlib.pyplot as plt\n",
        "import numpy as np\n",
        "import torch\n",
        "import torch.nn as nn\n",
        "import torch.optim as optim"
      ],
      "execution_count": 4,
      "outputs": []
    },
    {
      "cell_type": "code",
      "metadata": {
        "id": "RqqfDqi5UH2m",
        "outputId": "a241b771-0968-4aeb-f6af-b147f027d2db",
        "colab": {
          "base_uri": "https://localhost:8080/"
        }
      },
      "source": [
        "!git clone -b checkpoint https://github.com/azfarkhoja305/GANs.git"
      ],
      "execution_count": 5,
      "outputs": [
        {
          "output_type": "stream",
          "text": [
            "Cloning into 'GANs'...\n",
            "remote: Enumerating objects: 267, done.\u001b[K\n",
            "remote: Counting objects: 100% (267/267), done.\u001b[K\n",
            "remote: Compressing objects: 100% (194/194), done.\u001b[K\n",
            "remote: Total 267 (delta 142), reused 162 (delta 72), pack-reused 0\u001b[K\n",
            "Receiving objects: 100% (267/267), 87.91 MiB | 15.63 MiB/s, done.\n",
            "Resolving deltas: 100% (142/142), done.\n"
          ],
          "name": "stdout"
        }
      ]
    },
    {
      "cell_type": "code",
      "metadata": {
        "id": "zx3tQgeqUxgY"
      },
      "source": [
        "if Path('./GANs').exists():\n",
        "    sys.path.insert(0,'./GANs')"
      ],
      "execution_count": 6,
      "outputs": []
    },
    {
      "cell_type": "code",
      "metadata": {
        "id": "2H_pACzAVZqf"
      },
      "source": [
        "from utils.utils import check_gpu"
      ],
      "execution_count": 7,
      "outputs": []
    },
    {
      "cell_type": "code",
      "metadata": {
        "id": "h39eeB7gVk6S"
      },
      "source": [
        "%load_ext autoreload\n",
        "%autoreload 2"
      ],
      "execution_count": 8,
      "outputs": []
    },
    {
      "cell_type": "code",
      "metadata": {
        "colab": {
          "base_uri": "https://localhost:8080/"
        },
        "id": "nSvWsEDGVj6H",
        "outputId": "e7906c93-defc-4e74-a21c-f7d29e022b61"
      },
      "source": [
        "device = check_gpu()\n",
        "print(f'Using device: {device}')"
      ],
      "execution_count": 9,
      "outputs": [
        {
          "output_type": "stream",
          "text": [
            "Using device: cpu\n"
          ],
          "name": "stdout"
        }
      ]
    },
    {
      "cell_type": "code",
      "metadata": {
        "id": "QGMNDiBv3NPx"
      },
      "source": [
        "class Dummy(nn.Module):\n",
        "    def __init__(self):\n",
        "        super().__init__()\n",
        "        self.fc = nn.Linear(100,2)\n",
        "    def forward(self, x):\n",
        "        x = self.fc(x)\n",
        "        return x"
      ],
      "execution_count": 10,
      "outputs": []
    },
    {
      "cell_type": "code",
      "metadata": {
        "id": "q3g8cnj9Vxjn"
      },
      "source": [
        "gen = Dummy().to(device)\n",
        "critic = Dummy().to(device)"
      ],
      "execution_count": 11,
      "outputs": []
    },
    {
      "cell_type": "code",
      "metadata": {
        "id": "KwEDFjibY3oE"
      },
      "source": [
        "# hyper params\n",
        "lr = 3e-4\n",
        "gen_opt = optim.AdamW(gen.parameters(), lr=lr, betas=(0.9, 0.999))\n",
        "critic_opt = optim.AdamW(critic.parameters(), lr=lr, betas=(0.9, 0.999))\n",
        "\n",
        "loss_fn = nn.MSELoss(reduction='mean')\n",
        "\n",
        "num_epochs=20"
      ],
      "execution_count": 13,
      "outputs": []
    },
    {
      "cell_type": "code",
      "metadata": {
        "id": "oSIr6W5naHRT"
      },
      "source": [
        "# store loss statistics\n",
        "loss_logs = {'train_loss': [], 'valid_loss': []}"
      ],
      "execution_count": 14,
      "outputs": []
    },
    {
      "cell_type": "code",
      "metadata": {
        "id": "CcwNsK9EaJwx"
      },
      "source": [
        "# Create a required checkpoint instance. \n",
        "# If does not exists, Checkpoint class will create one.\n",
        "ckp_folder = gdrive/'temporary_checkpoint'"
      ],
      "execution_count": 15,
      "outputs": []
    },
    {
      "cell_type": "code",
      "metadata": {
        "id": "JpaP3YBBP6Gx"
      },
      "source": [
        "from utils.utils import Checkpoint"
      ],
      "execution_count": 16,
      "outputs": []
    },
    {
      "cell_type": "code",
      "metadata": {
        "id": "7_OLbzeD90g2"
      },
      "source": [
        "# Before starting training, instantiate the Checkpoint class\n",
        "# start checkpointing after 50 % of max_epochs are completed\n",
        "ckp_class = Checkpoint(ckp_folder, max_epochs=20, num_ckps=5, start_after=0.5)"
      ],
      "execution_count": 17,
      "outputs": []
    },
    {
      "cell_type": "code",
      "metadata": {
        "colab": {
          "base_uri": "https://localhost:8080/"
        },
        "id": "qamo61HUQQwa",
        "outputId": "85aca6e8-358a-439a-f36e-3727136c0fce"
      },
      "source": [
        "# check if any existing checkpoint exists, none found hence start_epoch is 0.\n",
        "# Optimizer states also get saved\n",
        "gen, critic, gen_opt, critic_opt, start_epoch, old_logs = \\\n",
        "                        ckp_class.check_if_exists(gen, critic, gen_opt, critic_opt)\n",
        "\n",
        "loss_logs = old_logs or loss_logs\n",
        "start_epoch, loss_logs"
      ],
      "execution_count": 18,
      "outputs": [
        {
          "output_type": "execute_result",
          "data": {
            "text/plain": [
              "(0, {'train_loss': [], 'valid_loss': []})"
            ]
          },
          "metadata": {
            "tags": []
          },
          "execution_count": 18
        }
      ]
    },
    {
      "cell_type": "code",
      "metadata": {
        "colab": {
          "base_uri": "https://localhost:8080/"
        },
        "id": "j7VOBpWdGmlh",
        "outputId": "365616ca-f67f-44f8-f2f8-4283ba415ad7"
      },
      "source": [
        "# these are the epochs where checkpoint will be stored.\n",
        "# The range [start_after*max_epochs, max_epochs] get equally divided\n",
        "ckp_class.ckp_epochs"
      ],
      "execution_count": 19,
      "outputs": [
        {
          "output_type": "execute_result",
          "data": {
            "text/plain": [
              "[10, 12, 15, 17, 20]"
            ]
          },
          "metadata": {
            "tags": []
          },
          "execution_count": 19
        }
      ]
    },
    {
      "cell_type": "code",
      "metadata": {
        "id": "Y-4nMnbGkIAy"
      },
      "source": [
        "# at the end of each epoch of training, do this\n",
        "# if epoch is in `ckp_class.ckp_epochs` (above) it will save the checkpoints.\n",
        "# Otherwise does nothing, like in this example\n",
        "ckp_class.at_epoch_end(gen, critic, gen_opt, critic_opt, epoch=5, loss_logs=loss_logs)"
      ],
      "execution_count": 20,
      "outputs": []
    },
    {
      "cell_type": "code",
      "metadata": {
        "colab": {
          "base_uri": "https://localhost:8080/"
        },
        "id": "0pkKgnAGH3V9",
        "outputId": "00cc119d-409e-4abf-d8cb-c6e8672cca4a"
      },
      "source": [
        "# Since this epoch is in `ckp_class.ckp_epochs`, it will save a checkpoint.\n",
        "# It gets named as `GanModel_{epoch}.pth' \n",
        "ckp_class.at_epoch_end(gen, critic, gen_opt, critic_opt, epoch=10, loss_logs=loss_logs)"
      ],
      "execution_count": 21,
      "outputs": [
        {
          "output_type": "stream",
          "text": [
            "=> Saving Checkpoint with name `GanModel_10.pth`\n"
          ],
          "name": "stdout"
        }
      ]
    },
    {
      "cell_type": "code",
      "metadata": {
        "colab": {
          "base_uri": "https://localhost:8080/"
        },
        "id": "7zJ8KUheK2vS",
        "outputId": "b70f4f00-3f7e-4495-a879-83823e6d2304"
      },
      "source": [
        "# Saving one more \n",
        "ckp_class.at_epoch_end(gen, critic, gen_opt, critic_opt, epoch=15, loss_logs=loss_logs)"
      ],
      "execution_count": 22,
      "outputs": [
        {
          "output_type": "stream",
          "text": [
            "=> Saving Checkpoint with name `GanModel_15.pth`\n"
          ],
          "name": "stdout"
        }
      ]
    },
    {
      "cell_type": "code",
      "metadata": {
        "colab": {
          "base_uri": "https://localhost:8080/"
        },
        "id": "B9fOy6jWGWxe",
        "outputId": "159b6659-b77f-4e51-fa13-5d7bf3bddac6"
      },
      "source": [
        "# Now in the future say training crashes or stops, this will automatically \n",
        "# pick up the latest checkpoint, no extra code or setting required\n",
        "# `start_epoch` is completed epochs + 1\n",
        "gen, critic, gen_opt, critic_opt, start_epoch, old_logs= \\\n",
        "                    ckp_class.check_if_exists(gen, critic, gen_opt, critic_opt)\n",
        "\n",
        "start_epoch"
      ],
      "execution_count": 23,
      "outputs": [
        {
          "output_type": "stream",
          "text": [
            "Checkpoint folder with checkpoints already exists. Searching for the latest.\n",
            "=> Loading checkpoint: drive/MyDrive/temporary_checkpoint/GanModel_15.pth\n"
          ],
          "name": "stdout"
        },
        {
          "output_type": "execute_result",
          "data": {
            "text/plain": [
              "16"
            ]
          },
          "metadata": {
            "tags": []
          },
          "execution_count": 23
        }
      ]
    },
    {
      "cell_type": "code",
      "metadata": {
        "colab": {
          "base_uri": "https://localhost:8080/"
        },
        "id": "y4u4Dy6jRKQ5",
        "outputId": "760e2388-d24c-4b35-b945-f85d189b33ef"
      },
      "source": [
        "# We can also manually save a model with any name we like.\n",
        "# Need to directly use Checkpoint class for this, optimizers are not necessary\n",
        "Checkpoint.save_checkpoint(ckp_folder/'transgan_50.pth', gen, critic)"
      ],
      "execution_count": 24,
      "outputs": [
        {
          "output_type": "stream",
          "text": [
            "=> Saving Checkpoint with name `transgan_50.pth`\n"
          ],
          "name": "stdout"
        }
      ]
    },
    {
      "cell_type": "code",
      "metadata": {
        "colab": {
          "base_uri": "https://localhost:8080/"
        },
        "id": "1_jdmjCxS38a",
        "outputId": "6a7ac188-8af1-4858-aaa2-6095c0360a38"
      },
      "source": [
        "# Looking inside the checkpoint folder\n",
        "ckp_folder.ls()"
      ],
      "execution_count": 25,
      "outputs": [
        {
          "output_type": "execute_result",
          "data": {
            "text/plain": [
              "[PosixPath('drive/MyDrive/temporary_checkpoint/GanModel_10.pth'),\n",
              " PosixPath('drive/MyDrive/temporary_checkpoint/GanModel_15.pth'),\n",
              " PosixPath('drive/MyDrive/temporary_checkpoint/transgan_50.pth')]"
            ]
          },
          "metadata": {
            "tags": []
          },
          "execution_count": 25
        }
      ]
    },
    {
      "cell_type": "code",
      "metadata": {
        "colab": {
          "base_uri": "https://localhost:8080/"
        },
        "id": "JNk2qmCAQflC",
        "outputId": "934b1114-15dc-4994-80bb-602f2a06ebb8"
      },
      "source": [
        "# Deleting checkpoints \n",
        "Checkpoint.delete_checkpoint(ckp_folder/'GanModel_10.pth')\n",
        "Checkpoint.delete_checkpoint(ckp_folder/'GanModel_15.pth')\n",
        "Checkpoint.delete_checkpoint(ckp_folder/'transgan_50.pth')"
      ],
      "execution_count": 26,
      "outputs": [
        {
          "output_type": "stream",
          "text": [
            "Deleting drive/MyDrive/temporary_checkpoint/GanModel_10.pth\n",
            "Deleting drive/MyDrive/temporary_checkpoint/GanModel_15.pth\n",
            "Deleting drive/MyDrive/temporary_checkpoint/transgan_50.pth\n"
          ],
          "name": "stdout"
        }
      ]
    },
    {
      "cell_type": "code",
      "metadata": {
        "id": "f8neWjmXLDcr",
        "outputId": "7281baa0-dbfd-46f3-f814-f1714f160515",
        "colab": {
          "base_uri": "https://localhost:8080/"
        }
      },
      "source": [
        "ckp_folder.ls()"
      ],
      "execution_count": 27,
      "outputs": [
        {
          "output_type": "execute_result",
          "data": {
            "text/plain": [
              "[]"
            ]
          },
          "metadata": {
            "tags": []
          },
          "execution_count": 27
        }
      ]
    },
    {
      "cell_type": "code",
      "metadata": {
        "id": "rQxUeOuxQzSt"
      },
      "source": [
        ""
      ],
      "execution_count": null,
      "outputs": []
    }
  ]
}