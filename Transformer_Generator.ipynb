{
  "nbformat": 4,
  "nbformat_minor": 0,
  "metadata": {
    "colab": {
      "name": "Transformer Generator",
      "provenance": [],
      "collapsed_sections": [],
      "authorship_tag": "ABX9TyPYPVZprbsLQUyRTQ+KD+Ut",
      "include_colab_link": true
    },
    "kernelspec": {
      "name": "python3",
      "display_name": "Python 3"
    },
    "language_info": {
      "name": "python"
    }
  },
  "cells": [
    {
      "cell_type": "markdown",
      "metadata": {
        "id": "view-in-github",
        "colab_type": "text"
      },
      "source": [
        "<a href=\"https://colab.research.google.com/github/azfarkhoja305/GANs/blob/transformer_generator/Transformer_Generator.ipynb\" target=\"_parent\"><img src=\"https://colab.research.google.com/assets/colab-badge.svg\" alt=\"Open In Colab\"/></a>"
      ]
    },
    {
      "cell_type": "code",
      "metadata": {
        "id": "ZYWGNU4Vjd0e"
      },
      "source": [
        "import os\n",
        "import sys\n",
        "from pathlib import Path\n",
        "import functools \n",
        "import math\n",
        "import pdb\n",
        "\n",
        "Path.ls = lambda x: list(x.iterdir())"
      ],
      "execution_count": 354,
      "outputs": []
    },
    {
      "cell_type": "code",
      "metadata": {
        "id": "kgtfey48j1VS"
      },
      "source": [
        "import numpy as np\n",
        "import matplotlib.pyplot as plt\n",
        "from matplotlib import animation, rc\n",
        "from tqdm.auto import tqdm\n",
        "\n",
        "import torch\n",
        "import torch.nn as nn\n",
        "import torch.nn.functional as F\n",
        "import torch.optim as optim\n",
        "import torchvision.datasets as datasets\n",
        "import torchvision.transforms as transforms\n",
        "import torchvision.utils as vutils\n",
        "from torchsummary import summary"
      ],
      "execution_count": 355,
      "outputs": []
    },
    {
      "cell_type": "code",
      "metadata": {
        "id": "Z3ozO59bj32p"
      },
      "source": [
        "!git clone -b transformer_generator https://github.com/azfarkhoja305/GANs.git"
      ],
      "execution_count": null,
      "outputs": []
    },
    {
      "cell_type": "code",
      "metadata": {
        "id": "4mFwWmmmj5v4"
      },
      "source": [
        "if Path('./GANs').exists():\n",
        "    sys.path.insert(0,'./GANs')"
      ],
      "execution_count": 358,
      "outputs": []
    },
    {
      "cell_type": "code",
      "metadata": {
        "id": "-PaOLoyy4qok"
      },
      "source": [
        "from utils.utils import check_gpu\n",
        "from utils.trunc_normal import trunc_normal_\n",
        "from utils.layers import DropPath, gelu, LinearReshape, Block, PixelUpsample, To_RGB, Attention, MLP "
      ],
      "execution_count": 359,
      "outputs": []
    },
    {
      "cell_type": "markdown",
      "metadata": {
        "id": "k2Geq5XQ4sMz"
      },
      "source": [
        "## Attention Mask\n"
      ]
    },
    {
      "cell_type": "code",
      "metadata": {
        "id": "u-_CmboTGZ9M"
      },
      "source": [
        "# Plot functions\n",
        "def plot_mask(pixel,mask, ax = None):\n",
        "    size = int(math.sqrt(len(mask)))\n",
        "    div = 2 if size <= 12 else 4\n",
        "    mask[pixel,pixel]=0.5\n",
        "    img = mask[pixel].view(size,size)\n",
        "    # if size <=16:   print(img.numpy())\n",
        "    if ax is None:\n",
        "        plt.figure(figsize=(size/div,size/div))\n",
        "        plt.imshow(img, cmap='gray')\n",
        "        plt.xticks(range(len(img)))\n",
        "        plt.yticks(range(len(img)))\n",
        "    else:\n",
        "        ax.imshow(img, cmap='gray')\n",
        "\n",
        "def plot_all(pixel_index, w, img_size):\n",
        "    _, axs = plt.subplots(1,2, figsize=(12,8))\n",
        "    mask = get_attn_mask(img_size**2,w).squeeze()\n",
        "    axs[0].imshow(mask, cmap='gray')\n",
        "    plot_mask(pixel_index,mask,axs[1])"
      ],
      "execution_count": 365,
      "outputs": []
    },
    {
      "cell_type": "code",
      "metadata": {
        "id": "cQJAr3oFIFwc"
      },
      "source": [
        "# TODO: Is this the one in the paper? \n",
        "# Doesn't seem so\n",
        "def get_attn_mask(N, w):\n",
        "    mask = torch.zeros(1, 1, N, N)\n",
        "    for i in range(N):\n",
        "        if i <= w:\n",
        "            mask[:, :, i, 0:i+w+1] = 1\n",
        "        elif N - i <= w:\n",
        "            mask[:, :, i, i-w:N] = 1\n",
        "        else:\n",
        "            mask[:, :, i, i:i+w+1] = 1\n",
        "            mask[:, :, i, i-w:i] = 1\n",
        "    return mask"
      ],
      "execution_count": 366,
      "outputs": []
    },
    {
      "cell_type": "code",
      "metadata": {
        "colab": {
          "base_uri": "https://localhost:8080/",
          "height": 354
        },
        "id": "KAPzOImrMR59",
        "outputId": "782ef162-be50-404f-ade3-90791a5e75b4"
      },
      "source": [
        "pixel_index = 28\n",
        "w = 4\n",
        "img_size=8\n",
        "\n",
        "plot_all(pixel_index,w,img_size)"
      ],
      "execution_count": 367,
      "outputs": [
        {
          "output_type": "display_data",
          "data": {
            "image/png": "[encoded data removed]",
            "text/plain": [
              "<Figure size 864x576 with 2 Axes>"
            ]
          },
          "metadata": {
            "tags": [],
            "needs_background": "light"
          }
        }
      ]
    },
    {
      "cell_type": "code",
      "metadata": {
        "colab": {
          "base_uri": "https://localhost:8080/",
          "height": 354
        },
        "id": "dS30ADCXK3RV",
        "outputId": "bd606bc4-23d3-4fdf-e1f7-90950403c2ee"
      },
      "source": [
        "pixel_index = 28\n",
        "w = 6\n",
        "img_size=8\n",
        "\n",
        "plot_all(pixel_index,w,img_size)"
      ],
      "execution_count": 368,
      "outputs": [
        {
          "output_type": "display_data",
          "data": {
            "image/png": "[encoded data removed]",
            "text/plain": [
              "<Figure size 864x576 with 2 Axes>"
            ]
          },
          "metadata": {
            "tags": [],
            "needs_background": "light"
          }
        }
      ]
    },
    {
      "cell_type": "code",
      "metadata": {
        "colab": {
          "base_uri": "https://localhost:8080/",
          "height": 354
        },
        "id": "nIvvTbTPLAQs",
        "outputId": "e4938044-958c-4c59-97b7-34e07b02f30e"
      },
      "source": [
        "pixel_index = 28\n",
        "w = 8\n",
        "img_size=8\n",
        "\n",
        "plot_all(pixel_index,w,img_size)"
      ],
      "execution_count": 369,
      "outputs": [
        {
          "output_type": "display_data",
          "data": {
            "image/png": "[encoded data removed]",
            "text/plain": [
              "<Figure size 864x576 with 2 Axes>"
            ]
          },
          "metadata": {
            "tags": [],
            "needs_background": "light"
          }
        }
      ]
    },
    {
      "cell_type": "markdown",
      "metadata": {
        "id": "L053KCrZ44SR"
      },
      "source": [
        "## Drop Path"
      ]
    },
    {
      "cell_type": "code",
      "metadata": {
        "id": "h7HgLlIY_fn6"
      },
      "source": [
        "# Copied over from TransGAN/models/ViT_helper.py\n",
        "\n",
        "def drop_path(x, drop_prob: float = 0., training: bool = False):\n",
        "    \"\"\"Drop paths (Stochastic Depth) per sample (when applied in main path of residual blocks).\n",
        "    This is the same as the DropConnect impl I created for EfficientNet, etc networks, however,\n",
        "    the original name is misleading as 'Drop Connect' is a different form of dropout in a separate paper...\n",
        "    See discussion: https://github.com/tensorflow/tpu/issues/494#issuecomment-532968956 ... I've opted for\n",
        "    changing the layer and argument names to 'drop path' rather than mix DropConnect as a layer name and use\n",
        "    'survival rate' as the argument.\n",
        "    \"\"\"\n",
        "    if drop_prob == 0. or not training:\n",
        "        return x\n",
        "    keep_prob = 1 - drop_prob\n",
        "    shape = (x.shape[0],) + (1,) * (x.ndim - 1)  # work with diff dim tensors, not just 2D ConvNets\n",
        "    random_tensor = keep_prob + torch.rand(shape, dtype=x.dtype, device=x.device)\n",
        "    random_tensor.floor_()  # binarize\n",
        "    output = x.div(keep_prob) * random_tensor\n",
        "    return output\n",
        "\n",
        "\n",
        "class DropPath(nn.Module):\n",
        "    \"\"\"Drop paths (Stochastic Depth) per sample  (when applied in main path of residual blocks).\n",
        "    \"\"\"\n",
        "    def __init__(self, drop_prob=None):\n",
        "        super(DropPath, self).__init__()\n",
        "        self.drop_prob = drop_prob\n",
        "\n",
        "    def forward(self, x):\n",
        "        return drop_path(x, self.drop_prob, self.training)"
      ],
      "execution_count": 370,
      "outputs": []
    },
    {
      "cell_type": "code",
      "metadata": {
        "colab": {
          "base_uri": "https://localhost:8080/"
        },
        "id": "XUQp43wQ8B1p",
        "outputId": "9a7af6ff-7075-41af-cb4b-f4a74395539d"
      },
      "source": [
        "#(Batch_sz, num_token, embedding)\n",
        "samples = torch.ones(2,4,8)\n",
        "samples"
      ],
      "execution_count": 371,
      "outputs": [
        {
          "output_type": "execute_result",
          "data": {
            "text/plain": [
              "tensor([[[1., 1., 1., 1., 1., 1., 1., 1.],\n",
              "         [1., 1., 1., 1., 1., 1., 1., 1.],\n",
              "         [1., 1., 1., 1., 1., 1., 1., 1.],\n",
              "         [1., 1., 1., 1., 1., 1., 1., 1.]],\n",
              "\n",
              "        [[1., 1., 1., 1., 1., 1., 1., 1.],\n",
              "         [1., 1., 1., 1., 1., 1., 1., 1.],\n",
              "         [1., 1., 1., 1., 1., 1., 1., 1.],\n",
              "         [1., 1., 1., 1., 1., 1., 1., 1.]]])"
            ]
          },
          "metadata": {
            "tags": []
          },
          "execution_count": 371
        }
      ]
    },
    {
      "cell_type": "code",
      "metadata": {
        "colab": {
          "base_uri": "https://localhost:8080/"
        },
        "id": "1j8YG1Jn47CH",
        "outputId": "13fc4596-d3f7-462b-b862-d7687a2a60e7"
      },
      "source": [
        "# Zeros out an entire input sample +\n",
        "# scales up remaining samples\n",
        "dp = DropPath(drop_prob=0.5)\n",
        "dp(samples)"
      ],
      "execution_count": 372,
      "outputs": [
        {
          "output_type": "execute_result",
          "data": {
            "text/plain": [
              "tensor([[[2., 2., 2., 2., 2., 2., 2., 2.],\n",
              "         [2., 2., 2., 2., 2., 2., 2., 2.],\n",
              "         [2., 2., 2., 2., 2., 2., 2., 2.],\n",
              "         [2., 2., 2., 2., 2., 2., 2., 2.]],\n",
              "\n",
              "        [[0., 0., 0., 0., 0., 0., 0., 0.],\n",
              "         [0., 0., 0., 0., 0., 0., 0., 0.],\n",
              "         [0., 0., 0., 0., 0., 0., 0., 0.],\n",
              "         [0., 0., 0., 0., 0., 0., 0., 0.]]])"
            ]
          },
          "metadata": {
            "tags": []
          },
          "execution_count": 372
        }
      ]
    },
    {
      "cell_type": "markdown",
      "metadata": {
        "id": "DOGboNBr-JhJ"
      },
      "source": [
        "### Some layers from utils.layers"
      ]
    },
    {
      "cell_type": "code",
      "metadata": {
        "id": "nHFhAUVM-gOp"
      },
      "source": [
        "class Attention(nn.Module):\n",
        "    def __init__(self, dims, num_heads=8, qkv_bias=False, qk_scale=None, attn_drop=0,\n",
        "                 proj_drop=0, attn_mask=False):\n",
        "        super().__init__()\n",
        "        self.num_heads = num_heads\n",
        "        assert dims % num_heads == 0, (f'Dims for Attention: {dims}, not divisible '\n",
        "            f'by num_heads: {num_heads}')\n",
        "        head_dims = dims // num_heads\n",
        "        self.scale = qk_scale or head_dims ** -0.5\n",
        "        \n",
        "        self.qkv = nn.Linear(dims, dims*3, bias=qkv_bias)\n",
        "        self.attn_drop = nn.Dropout(attn_drop)\n",
        "        self.proj = nn.Linear(dims, dims)\n",
        "        self.proj_drop = nn.Dropout(proj_drop)\n",
        "        # TODO:\n",
        "        if attn_mask:   raise NotImplementedError(f'attn_mask')\n",
        "        self.attn_mask = attn_mask\n",
        "    \n",
        "    def forward(self, x, epoch=None):\n",
        "        B,N,C = x.shape\n",
        "        # q,k,v shape: (B, num_heads, N, head_dims)\n",
        "        q,k,v = self.qkv(x).view(B,N,self.num_heads,-1).permute(0,2,1,3).tensor_split(3, dim=-1)\n",
        "        # score: (B, num_heads, N, N)\n",
        "        score = (q @ k.transpose(-2,-1)) * self.scale\n",
        "        if self.attn_mask: # TODO: Add logic\n",
        "            score = score.masked_fill(mask==0, -1e9)\n",
        "        score = self.attn_drop(score.softmax(dim=-1))\n",
        "        # context: (B, N, C)\n",
        "        context = (score @ v).permute(0,2,1,3).reshape(B,N,C)\n",
        "        context = self.proj_drop(self.proj(context))\n",
        "        return context"
      ],
      "execution_count": 373,
      "outputs": []
    },
    {
      "cell_type": "code",
      "metadata": {
        "colab": {
          "base_uri": "https://localhost:8080/"
        },
        "id": "YrUrBIBS-pnJ",
        "outputId": "ecac229a-c995-4b4c-b91d-6f7ffceed363"
      },
      "source": [
        "# (Batch_sz, num_token, embedding)\n",
        "samples = torch.rand(16,32,100)\n",
        "attention = Attention(100,5)\n",
        "out = attention(samples)\n",
        "out.shape"
      ],
      "execution_count": 374,
      "outputs": [
        {
          "output_type": "execute_result",
          "data": {
            "text/plain": [
              "torch.Size([16, 32, 100])"
            ]
          },
          "metadata": {
            "tags": []
          },
          "execution_count": 374
        }
      ]
    },
    {
      "cell_type": "code",
      "metadata": {
        "id": "M6Gf3-d_92DB"
      },
      "source": [
        "class Block(nn.Module):\n",
        "    def __init__(self, dims, num_heads, mlp_ratio=4, qkv_bias=False, qk_scale=None, mlp_drop=0, attn_drop=False,\n",
        "                 drop_path=0, att_mask=False, act_layer=gelu, norm_layer=nn.LayerNorm):\n",
        "        super().__init__()\n",
        "        self.norm_1 = norm_layer(dims)\n",
        "        self.attention = Attention(dims, num_heads, qkv_bias, qk_scale, attn_drop, \n",
        "                                   mlp_drop, att_mask)\n",
        "        self.drop_path = DropPath(drop_path) if drop_path > 0. else nn.Identity()\n",
        "        self.norm_2 = norm_layer(dims)\n",
        "        mlp_hidden_dim = int(dims*mlp_ratio)\n",
        "        self.mlp = MLP(in_feat=dims, hidden_feat=mlp_hidden_dim, act_layer=act_layer, \n",
        "                       drop=mlp_drop)\n",
        "\n",
        "    def forward(self,x,epoch=None):\n",
        "        x = x + self.drop_path(self.attention(self.norm_1(x), epoch))\n",
        "        x = x + self.drop_path(self.mlp(self.norm_2(x)))\n",
        "        return x  "
      ],
      "execution_count": 375,
      "outputs": []
    },
    {
      "cell_type": "code",
      "metadata": {
        "colab": {
          "base_uri": "https://localhost:8080/"
        },
        "id": "jHV9FoRj_G3C",
        "outputId": "d5279aea-bbf1-4b29-f29b-20797536ccec"
      },
      "source": [
        "# (Batch_sz, num_token, embedding)\n",
        "samples = torch.rand(16,32,100)\n",
        "blk = Block(100,5)\n",
        "out = blk(samples)\n",
        "out.shape"
      ],
      "execution_count": 376,
      "outputs": [
        {
          "output_type": "execute_result",
          "data": {
            "text/plain": [
              "torch.Size([16, 32, 100])"
            ]
          },
          "metadata": {
            "tags": []
          },
          "execution_count": 376
        }
      ]
    },
    {
      "cell_type": "code",
      "metadata": {
        "id": "yoXyIGIZ9ruS"
      },
      "source": [
        "class PixelUpsample(nn.Module):\n",
        "    def __init__(self, start_width):\n",
        "        super().__init__()\n",
        "        self.width = start_width\n",
        "        self.pixelshuffle = nn.PixelShuffle(upscale_factor=2)\n",
        "    def forward(self, x):\n",
        "        B,N,C = x.size()\n",
        "        assert N == self.width**2\n",
        "        x = x.permute(0,2,1).view(B, C, self.width, self.width)\n",
        "        x = self.pixelshuffle(x)\n",
        "        B, C, H, W = x.size()\n",
        "        x = x.view(B,C,H*W).permute(0,2,1)\n",
        "        return x"
      ],
      "execution_count": 378,
      "outputs": []
    },
    {
      "cell_type": "code",
      "metadata": {
        "colab": {
          "base_uri": "https://localhost:8080/"
        },
        "id": "Qthf5UHJAYGY",
        "outputId": "1abef3dd-d104-40c1-8c6a-00131d348dec"
      },
      "source": [
        "# (Batch_sz, num_pixels, embed_channels)\n",
        "samples = torch.rand(16,64,400)\n",
        "pixel_upsample = PixelUpsample(8)\n",
        "out = pixel_upsample(samples)\n",
        "out.shape"
      ],
      "execution_count": 379,
      "outputs": [
        {
          "output_type": "execute_result",
          "data": {
            "text/plain": [
              "torch.Size([16, 256, 100])"
            ]
          },
          "metadata": {
            "tags": []
          },
          "execution_count": 379
        }
      ]
    },
    {
      "cell_type": "markdown",
      "metadata": {
        "id": "sDZz9BXA-lz7"
      },
      "source": [
        "## Transformer **Generator**"
      ]
    },
    {
      "cell_type": "code",
      "metadata": {
        "id": "k9j6YuMwkwuT"
      },
      "source": [
        "class TGenerator(nn.Module):\n",
        "    def __init__(self, latent_dims=1024, img_size=32, bottom_width=8, embed_chs=384, depth=[5,2,2],\n",
        "                 drop_path_rate=0, num_heads=4, mlp_ratio=4, qkv_bias=False, qk_scale=None,  \n",
        "                 mlp_drop=0, attn_drop=0, att_mask=False, act_layer=gelu, norm_layer=nn.LayerNorm):\n",
        "        super().__init__()\n",
        "        assert isinstance(depth, list) and len(depth) == 3\n",
        "\n",
        "        self.in_layer = LinearReshape(in_dims=latent_dims, out_dims=embed_chs*bottom_width**2, \n",
        "                                      width=bottom_width, embed_chs=embed_chs)\n",
        "        self.pos_embed = nn.ParameterList([\n",
        "                          nn.Parameter(torch.zeros(1, bottom_width**2, embed_chs)),\n",
        "                          nn.Parameter(torch.zeros(1, (bottom_width*2)**2, embed_chs//4)),\n",
        "                          nn.Parameter(torch.zeros(1, (bottom_width*4)**2, embed_chs//16))\n",
        "        ])\n",
        "        for emb in self.pos_embed:\n",
        "            trunc_normal_(emb, std=.02)\n",
        "\n",
        "        Partial_Block = functools.partial(Block, num_heads=num_heads, mlp_ratio=mlp_ratio, \n",
        "                            qkv_bias=qkv_bias, qk_scale=qk_scale, mlp_drop=mlp_drop, attn_drop=attn_drop, \n",
        "                            att_mask=att_mask, act_layer=act_layer, norm_layer=norm_layer)\n",
        "        # stochastic depth decay rule\n",
        "        dpr = [x.item() for x in torch.linspace(0, drop_path_rate, depth[0])]  \n",
        "        self.bottom_block = nn.ModuleList([ \n",
        "                    Partial_Block(dims=embed_chs, drop_path=dpr[i]) for i in range(depth[0]) \n",
        "        ])\n",
        "        self.upsample_block = nn.ModuleList([\n",
        "                    nn.ModuleList([Partial_Block(dims=embed_chs//4, drop_path=0)] * depth[1]),\n",
        "                    nn.ModuleList([Partial_Block(dims=embed_chs//16, drop_path=0)] * depth[2])       \n",
        "        ])\n",
        "\n",
        "        self.pixel_upsample = nn.ModuleList([\n",
        "                                PixelUpsample(start_width=bottom_width),\n",
        "                                PixelUpsample(start_width=bottom_width*2)\n",
        "        ])\n",
        "        \n",
        "        self.to_rgb = To_RGB(ch_dims=embed_chs//16, img_size=img_size)\n",
        "\n",
        "    def forward(self, x, epoch=None):\n",
        "        x = self.in_layer(x) + self.pos_embed[0]\n",
        "        for blk in self.bottom_block:\n",
        "            x = blk(x,epoch)\n",
        "        for i, blocks in enumerate(self.upsample_block):\n",
        "            x = self.pixel_upsample[i](x) + self.pos_embed[i+1]\n",
        "            for blk in blocks:\n",
        "                x = blk(x,epoch)\n",
        "        x = self.to_rgb(x)\n",
        "        return x.contiguous()"
      ],
      "execution_count": 380,
      "outputs": []
    },
    {
      "cell_type": "code",
      "metadata": {
        "id": "j3xUHc8hf8Ow"
      },
      "source": [
        "device = check_gpu()\n",
        "Gen = TGenerator().to(device)"
      ],
      "execution_count": 381,
      "outputs": []
    },
    {
      "cell_type": "code",
      "metadata": {
        "colab": {
          "base_uri": "https://localhost:8080/"
        },
        "id": "739LT0dxNp-_",
        "outputId": "acc0c527-5323-4dfb-8b1a-eb064e5ae384"
      },
      "source": [
        "# (Batch_sz,latent_dims)\n",
        "noise = torch.randn(16,1024).to(device)\n",
        "out = Gen(noise)\n",
        "out.shape"
      ],
      "execution_count": 382,
      "outputs": [
        {
          "output_type": "execute_result",
          "data": {
            "text/plain": [
              "torch.Size([16, 3, 32, 32])"
            ]
          },
          "metadata": {
            "tags": []
          },
          "execution_count": 382
        }
      ]
    },
    {
      "cell_type": "code",
      "metadata": {
        "colab": {
          "base_uri": "https://localhost:8080/"
        },
        "id": "MPJ0SjTD5S0S",
        "outputId": "fb968e75-7308-4617-d420-a4bee8d3aa08"
      },
      "source": [
        "# Expected range [-1,1]\n",
        "out.min().item(), out.max().item()"
      ],
      "execution_count": 383,
      "outputs": [
        {
          "output_type": "execute_result",
          "data": {
            "text/plain": [
              "(-0.9689114093780518, 0.9828618168830872)"
            ]
          },
          "metadata": {
            "tags": []
          },
          "execution_count": 383
        }
      ]
    },
    {
      "cell_type": "code",
      "metadata": {
        "colab": {
          "base_uri": "https://localhost:8080/"
        },
        "id": "HAaJQ3lr5g8p",
        "outputId": "6faa2b01-bef0-4e32-ad5e-0c8a6bd1d406"
      },
      "source": [
        "summary(Gen,(1024,),)"
      ],
      "execution_count": 384,
      "outputs": [
        {
          "output_type": "stream",
          "text": [
            "----------------------------------------------------------------\n",
            "        Layer (type)               Output Shape         Param #\n",
            "================================================================\n",
            "            Linear-1                [-1, 24576]      25,165,824\n",
            "     LinearReshape-2              [-1, 64, 384]               0\n",
            "         LayerNorm-3              [-1, 64, 384]             768\n",
            "            Linear-4             [-1, 64, 1152]         442,368\n",
            "           Dropout-5            [-1, 4, 64, 64]               0\n",
            "            Linear-6              [-1, 64, 384]         147,840\n",
            "           Dropout-7              [-1, 64, 384]               0\n",
            "         Attention-8              [-1, 64, 384]               0\n",
            "          Identity-9              [-1, 64, 384]               0\n",
            "        LayerNorm-10              [-1, 64, 384]             768\n",
            "           Linear-11             [-1, 64, 1536]         591,360\n",
            "          Dropout-12             [-1, 64, 1536]               0\n",
            "           Linear-13              [-1, 64, 384]         590,208\n",
            "          Dropout-14              [-1, 64, 384]               0\n",
            "              MLP-15              [-1, 64, 384]               0\n",
            "         Identity-16              [-1, 64, 384]               0\n",
            "            Block-17              [-1, 64, 384]               0\n",
            "        LayerNorm-18              [-1, 64, 384]             768\n",
            "           Linear-19             [-1, 64, 1152]         442,368\n",
            "          Dropout-20            [-1, 4, 64, 64]               0\n",
            "           Linear-21              [-1, 64, 384]         147,840\n",
            "          Dropout-22              [-1, 64, 384]               0\n",
            "        Attention-23              [-1, 64, 384]               0\n",
            "         Identity-24              [-1, 64, 384]               0\n",
            "        LayerNorm-25              [-1, 64, 384]             768\n",
            "           Linear-26             [-1, 64, 1536]         591,360\n",
            "          Dropout-27             [-1, 64, 1536]               0\n",
            "           Linear-28              [-1, 64, 384]         590,208\n",
            "          Dropout-29              [-1, 64, 384]               0\n",
            "              MLP-30              [-1, 64, 384]               0\n",
            "         Identity-31              [-1, 64, 384]               0\n",
            "            Block-32              [-1, 64, 384]               0\n",
            "        LayerNorm-33              [-1, 64, 384]             768\n",
            "           Linear-34             [-1, 64, 1152]         442,368\n",
            "          Dropout-35            [-1, 4, 64, 64]               0\n",
            "           Linear-36              [-1, 64, 384]         147,840\n",
            "          Dropout-37              [-1, 64, 384]               0\n",
            "        Attention-38              [-1, 64, 384]               0\n",
            "         Identity-39              [-1, 64, 384]               0\n",
            "        LayerNorm-40              [-1, 64, 384]             768\n",
            "           Linear-41             [-1, 64, 1536]         591,360\n",
            "          Dropout-42             [-1, 64, 1536]               0\n",
            "           Linear-43              [-1, 64, 384]         590,208\n",
            "          Dropout-44              [-1, 64, 384]               0\n",
            "              MLP-45              [-1, 64, 384]               0\n",
            "         Identity-46              [-1, 64, 384]               0\n",
            "            Block-47              [-1, 64, 384]               0\n",
            "        LayerNorm-48              [-1, 64, 384]             768\n",
            "           Linear-49             [-1, 64, 1152]         442,368\n",
            "          Dropout-50            [-1, 4, 64, 64]               0\n",
            "           Linear-51              [-1, 64, 384]         147,840\n",
            "          Dropout-52              [-1, 64, 384]               0\n",
            "        Attention-53              [-1, 64, 384]               0\n",
            "         Identity-54              [-1, 64, 384]               0\n",
            "        LayerNorm-55              [-1, 64, 384]             768\n",
            "           Linear-56             [-1, 64, 1536]         591,360\n",
            "          Dropout-57             [-1, 64, 1536]               0\n",
            "           Linear-58              [-1, 64, 384]         590,208\n",
            "          Dropout-59              [-1, 64, 384]               0\n",
            "              MLP-60              [-1, 64, 384]               0\n",
            "         Identity-61              [-1, 64, 384]               0\n",
            "            Block-62              [-1, 64, 384]               0\n",
            "        LayerNorm-63              [-1, 64, 384]             768\n",
            "           Linear-64             [-1, 64, 1152]         442,368\n",
            "          Dropout-65            [-1, 4, 64, 64]               0\n",
            "           Linear-66              [-1, 64, 384]         147,840\n",
            "          Dropout-67              [-1, 64, 384]               0\n",
            "        Attention-68              [-1, 64, 384]               0\n",
            "         Identity-69              [-1, 64, 384]               0\n",
            "        LayerNorm-70              [-1, 64, 384]             768\n",
            "           Linear-71             [-1, 64, 1536]         591,360\n",
            "          Dropout-72             [-1, 64, 1536]               0\n",
            "           Linear-73              [-1, 64, 384]         590,208\n",
            "          Dropout-74              [-1, 64, 384]               0\n",
            "              MLP-75              [-1, 64, 384]               0\n",
            "         Identity-76              [-1, 64, 384]               0\n",
            "            Block-77              [-1, 64, 384]               0\n",
            "     PixelShuffle-78           [-1, 96, 16, 16]               0\n",
            "    PixelUpsample-79              [-1, 256, 96]               0\n",
            "        LayerNorm-80              [-1, 256, 96]             192\n",
            "           Linear-81             [-1, 256, 288]          27,648\n",
            "          Dropout-82          [-1, 4, 256, 256]               0\n",
            "           Linear-83              [-1, 256, 96]           9,312\n",
            "          Dropout-84              [-1, 256, 96]               0\n",
            "        Attention-85              [-1, 256, 96]               0\n",
            "         Identity-86              [-1, 256, 96]               0\n",
            "        LayerNorm-87              [-1, 256, 96]             192\n",
            "           Linear-88             [-1, 256, 384]          37,248\n",
            "          Dropout-89             [-1, 256, 384]               0\n",
            "           Linear-90              [-1, 256, 96]          36,960\n",
            "          Dropout-91              [-1, 256, 96]               0\n",
            "              MLP-92              [-1, 256, 96]               0\n",
            "         Identity-93              [-1, 256, 96]               0\n",
            "            Block-94              [-1, 256, 96]               0\n",
            "        LayerNorm-95              [-1, 256, 96]             192\n",
            "           Linear-96             [-1, 256, 288]          27,648\n",
            "          Dropout-97          [-1, 4, 256, 256]               0\n",
            "           Linear-98              [-1, 256, 96]           9,312\n",
            "          Dropout-99              [-1, 256, 96]               0\n",
            "       Attention-100              [-1, 256, 96]               0\n",
            "        Identity-101              [-1, 256, 96]               0\n",
            "       LayerNorm-102              [-1, 256, 96]             192\n",
            "          Linear-103             [-1, 256, 384]          37,248\n",
            "         Dropout-104             [-1, 256, 384]               0\n",
            "          Linear-105              [-1, 256, 96]          36,960\n",
            "         Dropout-106              [-1, 256, 96]               0\n",
            "             MLP-107              [-1, 256, 96]               0\n",
            "        Identity-108              [-1, 256, 96]               0\n",
            "           Block-109              [-1, 256, 96]               0\n",
            "    PixelShuffle-110           [-1, 24, 32, 32]               0\n",
            "   PixelUpsample-111             [-1, 1024, 24]               0\n",
            "       LayerNorm-112             [-1, 1024, 24]              48\n",
            "          Linear-113             [-1, 1024, 72]           1,728\n",
            "         Dropout-114        [-1, 4, 1024, 1024]               0\n",
            "          Linear-115             [-1, 1024, 24]             600\n",
            "         Dropout-116             [-1, 1024, 24]               0\n",
            "       Attention-117             [-1, 1024, 24]               0\n",
            "        Identity-118             [-1, 1024, 24]               0\n",
            "       LayerNorm-119             [-1, 1024, 24]              48\n",
            "          Linear-120             [-1, 1024, 96]           2,400\n",
            "         Dropout-121             [-1, 1024, 96]               0\n",
            "          Linear-122             [-1, 1024, 24]           2,328\n",
            "         Dropout-123             [-1, 1024, 24]               0\n",
            "             MLP-124             [-1, 1024, 24]               0\n",
            "        Identity-125             [-1, 1024, 24]               0\n",
            "           Block-126             [-1, 1024, 24]               0\n",
            "       LayerNorm-127             [-1, 1024, 24]              48\n",
            "          Linear-128             [-1, 1024, 72]           1,728\n",
            "         Dropout-129        [-1, 4, 1024, 1024]               0\n",
            "          Linear-130             [-1, 1024, 24]             600\n",
            "         Dropout-131             [-1, 1024, 24]               0\n",
            "       Attention-132             [-1, 1024, 24]               0\n",
            "        Identity-133             [-1, 1024, 24]               0\n",
            "       LayerNorm-134             [-1, 1024, 24]              48\n",
            "          Linear-135             [-1, 1024, 96]           2,400\n",
            "         Dropout-136             [-1, 1024, 96]               0\n",
            "          Linear-137             [-1, 1024, 24]           2,328\n",
            "         Dropout-138             [-1, 1024, 24]               0\n",
            "             MLP-139             [-1, 1024, 24]               0\n",
            "        Identity-140             [-1, 1024, 24]               0\n",
            "           Block-141             [-1, 1024, 24]               0\n",
            "          Linear-142              [-1, 1024, 3]              75\n",
            "            Tanh-143              [-1, 1024, 3]               0\n",
            "          To_RGB-144            [-1, 3, 32, 32]               0\n",
            "================================================================\n",
            "Total params: 34,269,867\n",
            "Trainable params: 34,269,867\n",
            "Non-trainable params: 0\n",
            "----------------------------------------------------------------\n",
            "Input size (MB): 0.00\n",
            "Forward/backward pass size (MB): 106.95\n",
            "Params size (MB): 130.73\n",
            "Estimated Total Size (MB): 237.68\n",
            "----------------------------------------------------------------\n"
          ],
          "name": "stdout"
        }
      ]
    },
    {
      "cell_type": "code",
      "metadata": {
        "id": "ft5JF3vk6QIm"
      },
      "source": [
        ""
      ],
      "execution_count": null,
      "outputs": []
    }
  ]
}